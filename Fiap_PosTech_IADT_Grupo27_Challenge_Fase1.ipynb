{
  "cells": [
    {
      "cell_type": "markdown",
      "metadata": {
        "id": "view-in-github",
        "colab_type": "text"
      },
      "source": [
        "<a href=\"https://colab.research.google.com/github/josehelioaraujo/FiapPosTechChallengeFase1_Preview/blob/develop/Fiap_PosTech_IADT_Grupo27_Challenge_Fase1.ipynb\" target=\"_parent\"><img src=\"https://colab.research.google.com/assets/colab-badge.svg\" alt=\"Open In Colab\"/></a>"
      ]
    },
    {
      "cell_type": "markdown",
      "metadata": {
        "id": "9lNyU-GYLVWm"
      },
      "source": [
        "**Introdução**\n",
        "\n",
        "Este projeto tem como objetivo a solução de um problema de um modelo preditivo de custo de seguro de saúde, relacionado ao **Tech Challenge Fase 1**, do curso de **Pós Gradução de IA para Devs** da **Fiap**.\n",
        "\n",
        "# Grupo 27\n",
        " - RM 355027  - José Hélio Araújo Andrade - helioandrade@hotmail.com\n",
        " - RM 356210  - Bernardo Guimarães Tinti - betinti@hotmail.com\n",
        " - RM XXXXX   - Thiago Henrique Nunes de Souza - thiagohnds@gmail.com\n",
        " - RM XXXXX   - Ana Paula de Sa Lopes de Simone - analopes@correios.com.br\n",
        "    \n",
        "\n",
        "\n",
        "# O Problema\n",
        "\n",
        "Você é um profissional encarregado de desenvolver um modelo preditivo de regressão para prever o valor dos custos médicos individuais\n",
        "cobrados pelo seguro de saúde.\n",
        "\n",
        "A base de dados para esse desafio pode ser algo como um arquivo CSV contendo os as colunas(idade,genero,imc, filhos,regiao, encargos).\n",
        "\n",
        "Você precisa apenas alimentar ela com mais informações ou utilizar uma outra de sua preferência.\n",
        "\n",
        "\n",
        "## Tarefas\n",
        "\n",
        "## Exploração de dados\n",
        "   - Carregue a base de dados e explore suas características.\n",
        "   - Analise estatísticas descritivas e visualize distribuições revelantes.\n",
        "   \n",
        "## Pré-processamento de dados:\n",
        "  - Realize a limpeza dos dados, tratando valores ausentes(se necessário)\n",
        "  - Converta variáveis categóricas em formatos adequados para a modelagem.\n",
        "\n",
        "## Modelagem\n",
        "  - Crie um modelo preditivo de regressão utilizando uma técnica a sua escolha(por exemplo, Regressão Linear, Árvores de Decisão, etc)\n",
        "\n",
        "## Treinamento e avaliação do modelo:\n",
        " - Treine o modelo com o conjunto de treinamento.\n",
        "\n",
        "\n",
        "## Validação estatísticas:\n",
        "- Utilize métricas estatísticas para validar a eficácia do modelo(p-value, intervalo de confiança);\n",
        "\n",
        "## O que avaliaremos:\n",
        "  - Apresente resultados visuais, como gráficos de previsões vs valores reais.\n",
        "  - Elabore um relatório que inclua uma análise de resultados, insigts obtidos e validação estatística.\n",
        "\n",
        "## Observações:\n",
        "- Esperamos que o modelo seja capaz de fazer predições confiáveis dos custos médicos individuais com base nas caractéricas fornecidas.\n",
        "\n",
        "# A Solução implementada:\n",
        "\n",
        "A Solução é composta por 6 partes, e em cada uma delas são descritas os passos ou instruções executados.\n",
        "\n",
        "### Seção 1 - Importando bibliotecas\n",
        "\n",
        "Utilizaremos as bibliotecas numpy, pandas, matplotlib, seaborn esklearn.\n",
        "\n",
        "### Seção 2 - Coleta e análise de dados\n",
        "Fonte dos dados: https://www.kaggle.com/datasets/mirichoi0218/insurance\n",
        "O dataset é composto pelas seguintes colunas:\n",
        "\n",
        "- age: idade do beneficiário principal\n",
        "\n",
        "- sex:\n",
        "    gênero do contratante de seguros, feminino, masculino\n",
        "- bmi: Índice de massa corporal, fornecendo uma compreensão do corpo, pesos relativamente altos ou baixos em relação à altura, índice objetivo de peso corporal (kg/m ^ 2) usando a relação entre altura e peso, idealmente 18,5 a 24,9\n",
        "- children: Número de filhos cobertos por seguro saúde / Número de dependentes\n",
        "- smoker: Se tem o hábito de fumar ou não\n",
        "- region: Localidade residencial do beneficiário nos EUA, nnortheast, southeast, southwest, northwest.\n",
        "- charges : Os encargos ou custos médicos individuais cobrados pelo seguro de saúde\n",
        "\n",
        "\n",
        "### Seção 3 - Análise de dados\n",
        "- exibindo as medidas estatísticas do dataset\n",
        "- exibindo quantidades de pessoas  por: idade, exo, imc, filhos, fumante, região\n",
        "- exibindo os gráficos de distribuição de quantidades de pessoaspor: idade, exo, imc, filhos, fumante, região\n",
        "\n",
        "### Seção 4 - Pré-processamento de dados\n",
        "- transformando as variáveis categóricas(sexo, fumante e região) em númericas\n",
        "- dividindo as variáveis features e target ou alvo(encargos)\n",
        "\n",
        "### Seção 5 - Treinamento de modelo\n",
        "Usaremos 3 modelos de predição de regressão linear, e em seguida escolheremos o que teve melhor eficácia, conforme\n",
        "métricas aplicadas(R2):\n",
        "\n",
        "### 5.1 Usando o modelo Regressão Linear\n",
        "    - carregando o modelo de regressão linear\n",
        "    - fazendo predição de treinamento do modelo de regressão linear\n",
        "    - predição de treinamento do modelo de regressão linear\n",
        "    - aplicando métrica R squared\n",
        "\n",
        "### 5.2 Usando o modelo random forest\n",
        "   - treinando com dados de treinamento do modelo randon forest\n",
        "   - fazendo predição do modelo random forest usando os dados de teste\n",
        "   - aplicando métrica r2 no modelo random forest\n",
        "\n",
        "### 5.3 Usando o modelo Regressão XGBoost\n",
        "   - carregando o modelo XGBoost\n",
        "   - fazendo predição do modelo XGBoost usando os dados de teste\n",
        "   - aplicando a métrica r2 do modelo xgBoost\n",
        "\n",
        "### 5.4 Comparação dos modelos usando a métrica R2\n",
        "  - Exibindo os resultados da métrica R2 para os 3 modelos treinados conforme os tipos utilizados\n",
        "  - Escolhendo o melhor modelo conforme métrica R2\n",
        "  - O melhor modelo foi XG Boost com valor R2 0.8662432902515654\n",
        "\n",
        "  ### 5.5 Gráficos estatísticos - dúvidas perguntar prof. Ana raquel\n",
        "       - Usar  gráficos estatísticos comparandos como as variáves característos impactam na varável target(encargos)\n",
        "         Exemplos: Histrogramas, matriz de confusão, etc\n",
        "\n",
        "    - Observações: usar lib statmodels.api  Link https://www.statsmodels.org/stable/regression.html\n",
        "\n",
        "\t- Estudar assuntos apresentados na mentoria pela prof. Ana Raquel\n",
        "\t - shapiro,statsmodel,mann whitney u test,p-value e intervalo de confiança, etc\n",
        "\n",
        "\n",
        "### Seção 6 - Conclusões - a\n",
        "\n",
        "Conforme a métrica R2 aplicada para os modelos utilizad, o melhor modelo preditivo do valor do custo de seguro, é o modelo XG Boost, conforme tabela exbida abaixo:\n",
        "\n",
        "- Regressão Linear - R2: 0.7447273869684076\n",
        "- Random Forest - R2: 0.8370748848709408\n",
        "- XG Boost - R2: 0.8662432902515654\n",
        "\n",
        "- etc\n",
        "- etc\n",
        "- etc\n",
        "\n",
        "### Seção 7 - Testando o modelo construido usando um formulário simples\n",
        "\n",
        "Usando o form abaixo para selecionar os dados que seráo\n",
        "usado no cálculo do custo do seguro.\n",
        "\n",
        "Exemplo de saida do custo do seguro usando os dados do form acima:\n",
        "![image.png](data:image/png;base64,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)\n",
        "\n",
        "\n",
        "Custo do segurado para os parâmtros abaixo:\n",
        "\n",
        "Idade: 44\n",
        "\n",
        "Sexo: Male\n",
        "\n",
        "IMC: 24.1\n",
        "\n",
        "Qtde Filhos: 1\n",
        "\n",
        "Fumante: Yes\n",
        "\n",
        "Região: Southeast\n",
        "\n",
        "Custo Seguro(USD): 10091.169\n",
        "\n",
        "\n",
        "\n",
        "\n",
        ""
      ]
    },
    {
      "cell_type": "markdown",
      "source": [],
      "metadata": {
        "id": "3oSAYVZEjXns"
      }
    },
    {
      "cell_type": "markdown",
      "source": [],
      "metadata": {
        "id": "gSlO3dJkjJvR"
      }
    },
    {
      "cell_type": "markdown",
      "source": [],
      "metadata": {
        "id": "Qt6T832DiNBj"
      }
    },
    {
      "cell_type": "markdown",
      "source": [],
      "metadata": {
        "id": "RAPKRC_riO4o"
      }
    },
    {
      "cell_type": "markdown",
      "source": [],
      "metadata": {
        "id": "f_cLhLJnccX8"
      }
    },
    {
      "cell_type": "code",
      "source": [],
      "metadata": {
        "id": "MSCRfMnEVt9T"
      },
      "execution_count": null,
      "outputs": []
    },
    {
      "cell_type": "markdown",
      "metadata": {
        "id": "URmAxWVIRiR7"
      },
      "source": [
        "## Seção 1 - Importando bibliotecas\n",
        "Usaremos as segunte bibliotecas:numpy,pandas, matplotlib,seaborn e sklearn\n",
        "\n",
        "## Seção 3 - Coleta de dados\n",
        "- carregando os dados do arquivo csv para um DataFrame do Pandas\n",
        " - exibindo nomes das colunas do datase\n",
        " - primeiras 5 linhas do dataframe\n",
        " - obtendo número de linhas e colunas - existem 1138 linhas e 7 colunas\n",
        " - obtendo informações dos data type do conjunto de dados\n",
        " - As variáveis categóricas são: sex, smoker e region\n",
        " - verificando valores ausentes, e observa-se que não existem\n",
        " - verificando se existem linhas duplicadas, e observa-se que existe uma linha\n",
        " - removendo linhas duplicadas, e observa-se que agora existem 1337 linhas\n",
        "\n",
        "## Seção 4 - Análise de dados\n",
        "\n",
        "## Seção 5 - Pré-processamento de dados\n",
        "\n",
        "## Seção 6 - Treinamento de modelo\n",
        "\n",
        "## Seção 7 - Conclusões\n",
        "\n",
        "\n"
      ]
    },
    {
      "cell_type": "code",
      "source": [],
      "metadata": {
        "id": "RFrya0URTMNS"
      },
      "execution_count": null,
      "outputs": []
    },
    {
      "cell_type": "markdown",
      "source": [],
      "metadata": {
        "id": "U-y0oCVvxJ2q"
      }
    },
    {
      "cell_type": "code",
      "execution_count": 55,
      "metadata": {
        "id": "dCei9HxoNdG5"
      },
      "outputs": [],
      "source": [
        "import numpy as np\n",
        "import pandas as pd\n",
        "import seaborn as sns\n",
        "from sklearn.model_selection import train_test_split\n",
        "from sklearn.linear_model import LinearRegression\n",
        "from sklearn import metrics\n",
        "import matplotlib.pyplot as plt\n"
      ]
    },
    {
      "cell_type": "markdown",
      "metadata": {
        "id": "k4ydeF1FSK2n"
      },
      "source": [
        "Seção 2 - Coleta e análise de dados\n",
        "\n",
        "**Observações:**\n",
        "\n",
        "[Dataset obtido da plataforma Kaggle](https://www.kaggle.com/mirichoi0218/insurance?select=insurance.csv)\n"
      ]
    },
    {
      "cell_type": "code",
      "source": [
        "from google.colab import drive\n",
        "drive.mount('/content/drive')"
      ],
      "metadata": {
        "colab": {
          "base_uri": "https://localhost:8080/"
        },
        "id": "bFl2cJo7PYZM",
        "outputId": "2fb0a947-2ddb-4c69-bbc5-452b1b9aec41"
      },
      "execution_count": 39,
      "outputs": [
        {
          "output_type": "stream",
          "name": "stdout",
          "text": [
            "Drive already mounted at /content/drive; to attempt to forcibly remount, call drive.mount(\"/content/drive\", force_remount=True).\n"
          ]
        }
      ]
    },
    {
      "cell_type": "code",
      "execution_count": 40,
      "metadata": {
        "id": "HvkkGhfRSGdn"
      },
      "outputs": [],
      "source": [
        "# carregando os dados do arquivo csv para um DataFrame do Pandas\n",
        "insurance_dataset = pd.read_csv('/content/insurance.csv')"
      ]
    },
    {
      "cell_type": "code",
      "execution_count": 11,
      "metadata": {
        "colab": {
          "base_uri": "https://localhost:8080/"
        },
        "id": "FqU3kmaXY6XB",
        "outputId": "ee2d29ff-1394-4ed5-b7ad-368a96b23a8b"
      },
      "outputs": [
        {
          "output_type": "stream",
          "name": "stdout",
          "text": [
            "Index(['age', 'sex', 'bmi', 'children', 'smoker', 'region', 'charges'], dtype='object')\n"
          ]
        }
      ],
      "source": [
        "# exibindo nomes das colunas do dataset\n",
        "# Antes as colunas são: 'age', 'sex', 'bmi', 'children', 'smoker', 'region', 'charges'\n",
        "print(insurance_dataset.columns)\n"
      ]
    },
    {
      "cell_type": "code",
      "execution_count": 12,
      "metadata": {
        "colab": {
          "base_uri": "https://localhost:8080/"
        },
        "id": "0bJE-6sVZ3W7",
        "outputId": "de352585-78e1-4b1c-dd31-09054428fccb"
      },
      "outputs": [
        {
          "output_type": "stream",
          "name": "stdout",
          "text": [
            "Index(['idade', 'sexo', 'imc', 'filhos', 'fumante', 'regiao', 'encargos'], dtype='object')\n"
          ]
        }
      ],
      "source": [
        "# renomeando as colunas do dataset para português\n",
        "\n",
        "insuarance_br = insurance_dataset.rename(\n",
        "     columns={insurance_dataset.columns[0]:'idade',\n",
        "              insurance_dataset.columns[1]: 'sexo',\n",
        "              insurance_dataset.columns[2]: 'imc',\n",
        "              insurance_dataset.columns[3]: 'filhos',\n",
        "              insurance_dataset.columns[4]: 'fumante',\n",
        "              insurance_dataset.columns[5]: 'regiao',\n",
        "              insurance_dataset.columns[6]: 'encargos'\n",
        "             })\n",
        "\n",
        "# depois as colunas ficarão como: 'idade', 'sexo', 'imc', 'filos', 'fumante', 'regiao', 'encargos'\n",
        "print(insuarance_br.columns)\n"
      ]
    },
    {
      "cell_type": "code",
      "execution_count": 13,
      "metadata": {
        "colab": {
          "base_uri": "https://localhost:8080/"
        },
        "id": "ZGbtzzOobM72",
        "outputId": "ccd02ed8-3f8e-482a-ced8-1a3cbd1c3b92"
      },
      "outputs": [
        {
          "output_type": "stream",
          "name": "stdout",
          "text": [
            "Index(['age', 'sex', 'bmi', 'children', 'smoker', 'encargos', 'charges'], dtype='object')\n"
          ]
        }
      ],
      "source": [
        "insurance_dataset = insurance_dataset.rename(columns={insurance_dataset.columns[5]: 'encargos'})\n",
        "print(insurance_dataset.columns)"
      ]
    },
    {
      "cell_type": "code",
      "execution_count": 22,
      "metadata": {
        "colab": {
          "base_uri": "https://localhost:8080/",
          "height": 206
        },
        "id": "jKHJM3wUSfhe",
        "outputId": "26cf186b-52f8-48c2-9a9d-b1f02ddc5c28"
      },
      "outputs": [
        {
          "output_type": "execute_result",
          "data": {
            "text/plain": [
              "   age     sex     bmi  children smoker   encargos      charges\n",
              "0   19  female  27.900         0    yes  southwest  16884.92400\n",
              "1   18    male  33.770         1     no  southeast   1725.55230\n",
              "2   28    male  33.000         3     no  southeast   4449.46200\n",
              "3   33    male  22.705         0     no  northwest  21984.47061\n",
              "4   32    male  28.880         0     no  northwest   3866.85520"
            ],
            "text/html": [
              "\n",
              "  <div id=\"df-5464142d-8a1b-42be-8a1d-3ed5150dc668\" class=\"colab-df-container\">\n",
              "    <div>\n",
              "<style scoped>\n",
              "    .dataframe tbody tr th:only-of-type {\n",
              "        vertical-align: middle;\n",
              "    }\n",
              "\n",
              "    .dataframe tbody tr th {\n",
              "        vertical-align: top;\n",
              "    }\n",
              "\n",
              "    .dataframe thead th {\n",
              "        text-align: right;\n",
              "    }\n",
              "</style>\n",
              "<table border=\"1\" class=\"dataframe\">\n",
              "  <thead>\n",
              "    <tr style=\"text-align: right;\">\n",
              "      <th></th>\n",
              "      <th>age</th>\n",
              "      <th>sex</th>\n",
              "      <th>bmi</th>\n",
              "      <th>children</th>\n",
              "      <th>smoker</th>\n",
              "      <th>encargos</th>\n",
              "      <th>charges</th>\n",
              "    </tr>\n",
              "  </thead>\n",
              "  <tbody>\n",
              "    <tr>\n",
              "      <th>0</th>\n",
              "      <td>19</td>\n",
              "      <td>female</td>\n",
              "      <td>27.900</td>\n",
              "      <td>0</td>\n",
              "      <td>yes</td>\n",
              "      <td>southwest</td>\n",
              "      <td>16884.92400</td>\n",
              "    </tr>\n",
              "    <tr>\n",
              "      <th>1</th>\n",
              "      <td>18</td>\n",
              "      <td>male</td>\n",
              "      <td>33.770</td>\n",
              "      <td>1</td>\n",
              "      <td>no</td>\n",
              "      <td>southeast</td>\n",
              "      <td>1725.55230</td>\n",
              "    </tr>\n",
              "    <tr>\n",
              "      <th>2</th>\n",
              "      <td>28</td>\n",
              "      <td>male</td>\n",
              "      <td>33.000</td>\n",
              "      <td>3</td>\n",
              "      <td>no</td>\n",
              "      <td>southeast</td>\n",
              "      <td>4449.46200</td>\n",
              "    </tr>\n",
              "    <tr>\n",
              "      <th>3</th>\n",
              "      <td>33</td>\n",
              "      <td>male</td>\n",
              "      <td>22.705</td>\n",
              "      <td>0</td>\n",
              "      <td>no</td>\n",
              "      <td>northwest</td>\n",
              "      <td>21984.47061</td>\n",
              "    </tr>\n",
              "    <tr>\n",
              "      <th>4</th>\n",
              "      <td>32</td>\n",
              "      <td>male</td>\n",
              "      <td>28.880</td>\n",
              "      <td>0</td>\n",
              "      <td>no</td>\n",
              "      <td>northwest</td>\n",
              "      <td>3866.85520</td>\n",
              "    </tr>\n",
              "  </tbody>\n",
              "</table>\n",
              "</div>\n",
              "    <div class=\"colab-df-buttons\">\n",
              "\n",
              "  <div class=\"colab-df-container\">\n",
              "    <button class=\"colab-df-convert\" onclick=\"convertToInteractive('df-5464142d-8a1b-42be-8a1d-3ed5150dc668')\"\n",
              "            title=\"Convert this dataframe to an interactive table.\"\n",
              "            style=\"display:none;\">\n",
              "\n",
              "  <svg xmlns=\"http://www.w3.org/2000/svg\" height=\"24px\" viewBox=\"0 -960 960 960\">\n",
              "    <path d=\"M120-120v-720h720v720H120Zm60-500h600v-160H180v160Zm220 220h160v-160H400v160Zm0 220h160v-160H400v160ZM180-400h160v-160H180v160Zm440 0h160v-160H620v160ZM180-180h160v-160H180v160Zm440 0h160v-160H620v160Z\"/>\n",
              "  </svg>\n",
              "    </button>\n",
              "\n",
              "  <style>\n",
              "    .colab-df-container {\n",
              "      display:flex;\n",
              "      gap: 12px;\n",
              "    }\n",
              "\n",
              "    .colab-df-convert {\n",
              "      background-color: #E8F0FE;\n",
              "      border: none;\n",
              "      border-radius: 50%;\n",
              "      cursor: pointer;\n",
              "      display: none;\n",
              "      fill: #1967D2;\n",
              "      height: 32px;\n",
              "      padding: 0 0 0 0;\n",
              "      width: 32px;\n",
              "    }\n",
              "\n",
              "    .colab-df-convert:hover {\n",
              "      background-color: #E2EBFA;\n",
              "      box-shadow: 0px 1px 2px rgba(60, 64, 67, 0.3), 0px 1px 3px 1px rgba(60, 64, 67, 0.15);\n",
              "      fill: #174EA6;\n",
              "    }\n",
              "\n",
              "    .colab-df-buttons div {\n",
              "      margin-bottom: 4px;\n",
              "    }\n",
              "\n",
              "    [theme=dark] .colab-df-convert {\n",
              "      background-color: #3B4455;\n",
              "      fill: #D2E3FC;\n",
              "    }\n",
              "\n",
              "    [theme=dark] .colab-df-convert:hover {\n",
              "      background-color: #434B5C;\n",
              "      box-shadow: 0px 1px 3px 1px rgba(0, 0, 0, 0.15);\n",
              "      filter: drop-shadow(0px 1px 2px rgba(0, 0, 0, 0.3));\n",
              "      fill: #FFFFFF;\n",
              "    }\n",
              "  </style>\n",
              "\n",
              "    <script>\n",
              "      const buttonEl =\n",
              "        document.querySelector('#df-5464142d-8a1b-42be-8a1d-3ed5150dc668 button.colab-df-convert');\n",
              "      buttonEl.style.display =\n",
              "        google.colab.kernel.accessAllowed ? 'block' : 'none';\n",
              "\n",
              "      async function convertToInteractive(key) {\n",
              "        const element = document.querySelector('#df-5464142d-8a1b-42be-8a1d-3ed5150dc668');\n",
              "        const dataTable =\n",
              "          await google.colab.kernel.invokeFunction('convertToInteractive',\n",
              "                                                    [key], {});\n",
              "        if (!dataTable) return;\n",
              "\n",
              "        const docLinkHtml = 'Like what you see? Visit the ' +\n",
              "          '<a target=\"_blank\" href=https://colab.research.google.com/notebooks/data_table.ipynb>data table notebook</a>'\n",
              "          + ' to learn more about interactive tables.';\n",
              "        element.innerHTML = '';\n",
              "        dataTable['output_type'] = 'display_data';\n",
              "        await google.colab.output.renderOutput(dataTable, element);\n",
              "        const docLink = document.createElement('div');\n",
              "        docLink.innerHTML = docLinkHtml;\n",
              "        element.appendChild(docLink);\n",
              "      }\n",
              "    </script>\n",
              "  </div>\n",
              "\n",
              "\n",
              "<div id=\"df-5472b77b-a433-445a-bc78-bb472b2d80db\">\n",
              "  <button class=\"colab-df-quickchart\" onclick=\"quickchart('df-5472b77b-a433-445a-bc78-bb472b2d80db')\"\n",
              "            title=\"Suggest charts\"\n",
              "            style=\"display:none;\">\n",
              "\n",
              "<svg xmlns=\"http://www.w3.org/2000/svg\" height=\"24px\"viewBox=\"0 0 24 24\"\n",
              "     width=\"24px\">\n",
              "    <g>\n",
              "        <path d=\"M19 3H5c-1.1 0-2 .9-2 2v14c0 1.1.9 2 2 2h14c1.1 0 2-.9 2-2V5c0-1.1-.9-2-2-2zM9 17H7v-7h2v7zm4 0h-2V7h2v10zm4 0h-2v-4h2v4z\"/>\n",
              "    </g>\n",
              "</svg>\n",
              "  </button>\n",
              "\n",
              "<style>\n",
              "  .colab-df-quickchart {\n",
              "      --bg-color: #E8F0FE;\n",
              "      --fill-color: #1967D2;\n",
              "      --hover-bg-color: #E2EBFA;\n",
              "      --hover-fill-color: #174EA6;\n",
              "      --disabled-fill-color: #AAA;\n",
              "      --disabled-bg-color: #DDD;\n",
              "  }\n",
              "\n",
              "  [theme=dark] .colab-df-quickchart {\n",
              "      --bg-color: #3B4455;\n",
              "      --fill-color: #D2E3FC;\n",
              "      --hover-bg-color: #434B5C;\n",
              "      --hover-fill-color: #FFFFFF;\n",
              "      --disabled-bg-color: #3B4455;\n",
              "      --disabled-fill-color: #666;\n",
              "  }\n",
              "\n",
              "  .colab-df-quickchart {\n",
              "    background-color: var(--bg-color);\n",
              "    border: none;\n",
              "    border-radius: 50%;\n",
              "    cursor: pointer;\n",
              "    display: none;\n",
              "    fill: var(--fill-color);\n",
              "    height: 32px;\n",
              "    padding: 0;\n",
              "    width: 32px;\n",
              "  }\n",
              "\n",
              "  .colab-df-quickchart:hover {\n",
              "    background-color: var(--hover-bg-color);\n",
              "    box-shadow: 0 1px 2px rgba(60, 64, 67, 0.3), 0 1px 3px 1px rgba(60, 64, 67, 0.15);\n",
              "    fill: var(--button-hover-fill-color);\n",
              "  }\n",
              "\n",
              "  .colab-df-quickchart-complete:disabled,\n",
              "  .colab-df-quickchart-complete:disabled:hover {\n",
              "    background-color: var(--disabled-bg-color);\n",
              "    fill: var(--disabled-fill-color);\n",
              "    box-shadow: none;\n",
              "  }\n",
              "\n",
              "  .colab-df-spinner {\n",
              "    border: 2px solid var(--fill-color);\n",
              "    border-color: transparent;\n",
              "    border-bottom-color: var(--fill-color);\n",
              "    animation:\n",
              "      spin 1s steps(1) infinite;\n",
              "  }\n",
              "\n",
              "  @keyframes spin {\n",
              "    0% {\n",
              "      border-color: transparent;\n",
              "      border-bottom-color: var(--fill-color);\n",
              "      border-left-color: var(--fill-color);\n",
              "    }\n",
              "    20% {\n",
              "      border-color: transparent;\n",
              "      border-left-color: var(--fill-color);\n",
              "      border-top-color: var(--fill-color);\n",
              "    }\n",
              "    30% {\n",
              "      border-color: transparent;\n",
              "      border-left-color: var(--fill-color);\n",
              "      border-top-color: var(--fill-color);\n",
              "      border-right-color: var(--fill-color);\n",
              "    }\n",
              "    40% {\n",
              "      border-color: transparent;\n",
              "      border-right-color: var(--fill-color);\n",
              "      border-top-color: var(--fill-color);\n",
              "    }\n",
              "    60% {\n",
              "      border-color: transparent;\n",
              "      border-right-color: var(--fill-color);\n",
              "    }\n",
              "    80% {\n",
              "      border-color: transparent;\n",
              "      border-right-color: var(--fill-color);\n",
              "      border-bottom-color: var(--fill-color);\n",
              "    }\n",
              "    90% {\n",
              "      border-color: transparent;\n",
              "      border-bottom-color: var(--fill-color);\n",
              "    }\n",
              "  }\n",
              "</style>\n",
              "\n",
              "  <script>\n",
              "    async function quickchart(key) {\n",
              "      const quickchartButtonEl =\n",
              "        document.querySelector('#' + key + ' button');\n",
              "      quickchartButtonEl.disabled = true;  // To prevent multiple clicks.\n",
              "      quickchartButtonEl.classList.add('colab-df-spinner');\n",
              "      try {\n",
              "        const charts = await google.colab.kernel.invokeFunction(\n",
              "            'suggestCharts', [key], {});\n",
              "      } catch (error) {\n",
              "        console.error('Error during call to suggestCharts:', error);\n",
              "      }\n",
              "      quickchartButtonEl.classList.remove('colab-df-spinner');\n",
              "      quickchartButtonEl.classList.add('colab-df-quickchart-complete');\n",
              "    }\n",
              "    (() => {\n",
              "      let quickchartButtonEl =\n",
              "        document.querySelector('#df-5472b77b-a433-445a-bc78-bb472b2d80db button');\n",
              "      quickchartButtonEl.style.display =\n",
              "        google.colab.kernel.accessAllowed ? 'block' : 'none';\n",
              "    })();\n",
              "  </script>\n",
              "</div>\n",
              "\n",
              "    </div>\n",
              "  </div>\n"
            ],
            "application/vnd.google.colaboratory.intrinsic+json": {
              "type": "dataframe",
              "variable_name": "insurance_dataset",
              "summary": "{\n  \"name\": \"insurance_dataset\",\n  \"rows\": 1337,\n  \"fields\": [\n    {\n      \"column\": \"age\",\n      \"properties\": {\n        \"dtype\": \"number\",\n        \"std\": 14,\n        \"min\": 18,\n        \"max\": 64,\n        \"num_unique_values\": 47,\n        \"samples\": [\n          21,\n          45,\n          36\n        ],\n        \"semantic_type\": \"\",\n        \"description\": \"\"\n      }\n    },\n    {\n      \"column\": \"sex\",\n      \"properties\": {\n        \"dtype\": \"category\",\n        \"num_unique_values\": 2,\n        \"samples\": [\n          \"male\",\n          \"female\"\n        ],\n        \"semantic_type\": \"\",\n        \"description\": \"\"\n      }\n    },\n    {\n      \"column\": \"bmi\",\n      \"properties\": {\n        \"dtype\": \"number\",\n        \"std\": 6.100468409615801,\n        \"min\": 15.96,\n        \"max\": 53.13,\n        \"num_unique_values\": 548,\n        \"samples\": [\n          23.18,\n          26.885\n        ],\n        \"semantic_type\": \"\",\n        \"description\": \"\"\n      }\n    },\n    {\n      \"column\": \"children\",\n      \"properties\": {\n        \"dtype\": \"number\",\n        \"std\": 1,\n        \"min\": 0,\n        \"max\": 5,\n        \"num_unique_values\": 6,\n        \"samples\": [\n          0,\n          1\n        ],\n        \"semantic_type\": \"\",\n        \"description\": \"\"\n      }\n    },\n    {\n      \"column\": \"smoker\",\n      \"properties\": {\n        \"dtype\": \"category\",\n        \"num_unique_values\": 2,\n        \"samples\": [\n          \"no\",\n          \"yes\"\n        ],\n        \"semantic_type\": \"\",\n        \"description\": \"\"\n      }\n    },\n    {\n      \"column\": \"encargos\",\n      \"properties\": {\n        \"dtype\": \"category\",\n        \"num_unique_values\": 4,\n        \"samples\": [\n          \"southeast\",\n          \"northeast\"\n        ],\n        \"semantic_type\": \"\",\n        \"description\": \"\"\n      }\n    },\n    {\n      \"column\": \"charges\",\n      \"properties\": {\n        \"dtype\": \"number\",\n        \"std\": 12110.359656344175,\n        \"min\": 1121.8739,\n        \"max\": 63770.42801,\n        \"num_unique_values\": 1337,\n        \"samples\": [\n          8688.85885,\n          5708.867\n        ],\n        \"semantic_type\": \"\",\n        \"description\": \"\"\n      }\n    }\n  ]\n}"
            }
          },
          "metadata": {},
          "execution_count": 22
        }
      ],
      "source": [
        "# primeiras 5 linhas do dataframe\n",
        "insurance_dataset.head()"
      ]
    },
    {
      "cell_type": "code",
      "execution_count": 23,
      "metadata": {
        "colab": {
          "base_uri": "https://localhost:8080/"
        },
        "id": "qB730MywSmwM",
        "outputId": "429b5462-0b7e-4df5-c7a6-f0252d579c1c"
      },
      "outputs": [
        {
          "output_type": "execute_result",
          "data": {
            "text/plain": [
              "(1337, 7)"
            ]
          },
          "metadata": {},
          "execution_count": 23
        }
      ],
      "source": [
        "# obtendo número de linhas e colunas - existem 1138 linhas e 7 colunas\n",
        "insurance_dataset.shape"
      ]
    },
    {
      "cell_type": "code",
      "execution_count": null,
      "metadata": {
        "id": "zbBK33o-S_Q7"
      },
      "outputs": [],
      "source": [
        "# obtendo informações dos data type do conjunto de dados\n",
        "# as variáveis categóricas são: sex, smoker e region\n",
        "insurance_dataset.info()"
      ]
    },
    {
      "cell_type": "code",
      "execution_count": 25,
      "metadata": {
        "colab": {
          "base_uri": "https://localhost:8080/"
        },
        "id": "-DsX_XZUTOw8",
        "outputId": "99811478-4a65-48c5-fc58-57aaca2440dd"
      },
      "outputs": [
        {
          "output_type": "execute_result",
          "data": {
            "text/plain": [
              "age         0\n",
              "sex         0\n",
              "bmi         0\n",
              "children    0\n",
              "smoker      0\n",
              "encargos    0\n",
              "charges     0\n",
              "dtype: int64"
            ]
          },
          "metadata": {},
          "execution_count": 25
        }
      ],
      "source": [
        "# verificando valores ausentes, e observa-se que não existem\n",
        "insurance_dataset.isnull().sum()"
      ]
    },
    {
      "cell_type": "code",
      "source": [],
      "metadata": {
        "id": "wUkRcQcywk52"
      },
      "execution_count": 17,
      "outputs": []
    },
    {
      "cell_type": "code",
      "source": [
        "# verificando se existem linhas duplicadas, e observa-se que existe uma linha\n",
        "insurance_dataset.duplicated().sum()"
      ],
      "metadata": {
        "colab": {
          "base_uri": "https://localhost:8080/"
        },
        "id": "9zFYe9egjhuO",
        "outputId": "aacafb4f-a8fc-4922-db0b-2b1d4d3be7ab"
      },
      "execution_count": 26,
      "outputs": [
        {
          "output_type": "execute_result",
          "data": {
            "text/plain": [
              "0"
            ]
          },
          "metadata": {},
          "execution_count": 26
        }
      ]
    },
    {
      "cell_type": "code",
      "source": [
        "# removendo linhas duplicadas, e observa-se que agora existem 1337 linhas\n",
        "\n",
        "insurance_dataset.drop_duplicates(inplace=True)\n",
        "\n",
        "print(insurance_dataset)\n"
      ],
      "metadata": {
        "colab": {
          "base_uri": "https://localhost:8080/"
        },
        "id": "LYFHZdM4l6kf",
        "outputId": "6ebd48c7-3dc4-4c24-daf3-ce42fa6cc0cb"
      },
      "execution_count": 27,
      "outputs": [
        {
          "output_type": "stream",
          "name": "stdout",
          "text": [
            "      age     sex     bmi  children smoker   encargos      charges\n",
            "0      19  female  27.900         0    yes  southwest  16884.92400\n",
            "1      18    male  33.770         1     no  southeast   1725.55230\n",
            "2      28    male  33.000         3     no  southeast   4449.46200\n",
            "3      33    male  22.705         0     no  northwest  21984.47061\n",
            "4      32    male  28.880         0     no  northwest   3866.85520\n",
            "...   ...     ...     ...       ...    ...        ...          ...\n",
            "1333   50    male  30.970         3     no  northwest  10600.54830\n",
            "1334   18  female  31.920         0     no  northeast   2205.98080\n",
            "1335   18  female  36.850         0     no  southeast   1629.83350\n",
            "1336   21  female  25.800         0     no  southwest   2007.94500\n",
            "1337   61  female  29.070         0    yes  northwest  29141.36030\n",
            "\n",
            "[1337 rows x 7 columns]\n"
          ]
        }
      ]
    },
    {
      "cell_type": "markdown",
      "source": [],
      "metadata": {
        "id": "KmEJrg_viTkf"
      }
    },
    {
      "cell_type": "markdown",
      "source": [],
      "metadata": {
        "id": "Cu7KHJDyiUp6"
      }
    },
    {
      "cell_type": "markdown",
      "metadata": {
        "id": "39CD23eNUBpW"
      },
      "source": [
        "# Seção 3 - Análise de dados"
      ]
    },
    {
      "cell_type": "code",
      "execution_count": 41,
      "metadata": {
        "colab": {
          "base_uri": "https://localhost:8080/",
          "height": 300
        },
        "id": "H3JJHLVgT4kV",
        "outputId": "51648434-fec7-4313-853f-351cc731b5ab"
      },
      "outputs": [
        {
          "output_type": "execute_result",
          "data": {
            "text/plain": [
              "               age          bmi     children       charges\n",
              "count  1338.000000  1338.000000  1338.000000   1338.000000\n",
              "mean     39.207025    30.663397     1.094918  13270.422265\n",
              "std      14.049960     6.098187     1.205493  12110.011237\n",
              "min      18.000000    15.960000     0.000000   1121.873900\n",
              "25%      27.000000    26.296250     0.000000   4740.287150\n",
              "50%      39.000000    30.400000     1.000000   9382.033000\n",
              "75%      51.000000    34.693750     2.000000  16639.912515\n",
              "max      64.000000    53.130000     5.000000  63770.428010"
            ],
            "text/html": [
              "\n",
              "  <div id=\"df-50566025-1d61-4f2a-afd0-8133d44cd73b\" class=\"colab-df-container\">\n",
              "    <div>\n",
              "<style scoped>\n",
              "    .dataframe tbody tr th:only-of-type {\n",
              "        vertical-align: middle;\n",
              "    }\n",
              "\n",
              "    .dataframe tbody tr th {\n",
              "        vertical-align: top;\n",
              "    }\n",
              "\n",
              "    .dataframe thead th {\n",
              "        text-align: right;\n",
              "    }\n",
              "</style>\n",
              "<table border=\"1\" class=\"dataframe\">\n",
              "  <thead>\n",
              "    <tr style=\"text-align: right;\">\n",
              "      <th></th>\n",
              "      <th>age</th>\n",
              "      <th>bmi</th>\n",
              "      <th>children</th>\n",
              "      <th>charges</th>\n",
              "    </tr>\n",
              "  </thead>\n",
              "  <tbody>\n",
              "    <tr>\n",
              "      <th>count</th>\n",
              "      <td>1338.000000</td>\n",
              "      <td>1338.000000</td>\n",
              "      <td>1338.000000</td>\n",
              "      <td>1338.000000</td>\n",
              "    </tr>\n",
              "    <tr>\n",
              "      <th>mean</th>\n",
              "      <td>39.207025</td>\n",
              "      <td>30.663397</td>\n",
              "      <td>1.094918</td>\n",
              "      <td>13270.422265</td>\n",
              "    </tr>\n",
              "    <tr>\n",
              "      <th>std</th>\n",
              "      <td>14.049960</td>\n",
              "      <td>6.098187</td>\n",
              "      <td>1.205493</td>\n",
              "      <td>12110.011237</td>\n",
              "    </tr>\n",
              "    <tr>\n",
              "      <th>min</th>\n",
              "      <td>18.000000</td>\n",
              "      <td>15.960000</td>\n",
              "      <td>0.000000</td>\n",
              "      <td>1121.873900</td>\n",
              "    </tr>\n",
              "    <tr>\n",
              "      <th>25%</th>\n",
              "      <td>27.000000</td>\n",
              "      <td>26.296250</td>\n",
              "      <td>0.000000</td>\n",
              "      <td>4740.287150</td>\n",
              "    </tr>\n",
              "    <tr>\n",
              "      <th>50%</th>\n",
              "      <td>39.000000</td>\n",
              "      <td>30.400000</td>\n",
              "      <td>1.000000</td>\n",
              "      <td>9382.033000</td>\n",
              "    </tr>\n",
              "    <tr>\n",
              "      <th>75%</th>\n",
              "      <td>51.000000</td>\n",
              "      <td>34.693750</td>\n",
              "      <td>2.000000</td>\n",
              "      <td>16639.912515</td>\n",
              "    </tr>\n",
              "    <tr>\n",
              "      <th>max</th>\n",
              "      <td>64.000000</td>\n",
              "      <td>53.130000</td>\n",
              "      <td>5.000000</td>\n",
              "      <td>63770.428010</td>\n",
              "    </tr>\n",
              "  </tbody>\n",
              "</table>\n",
              "</div>\n",
              "    <div class=\"colab-df-buttons\">\n",
              "\n",
              "  <div class=\"colab-df-container\">\n",
              "    <button class=\"colab-df-convert\" onclick=\"convertToInteractive('df-50566025-1d61-4f2a-afd0-8133d44cd73b')\"\n",
              "            title=\"Convert this dataframe to an interactive table.\"\n",
              "            style=\"display:none;\">\n",
              "\n",
              "  <svg xmlns=\"http://www.w3.org/2000/svg\" height=\"24px\" viewBox=\"0 -960 960 960\">\n",
              "    <path d=\"M120-120v-720h720v720H120Zm60-500h600v-160H180v160Zm220 220h160v-160H400v160Zm0 220h160v-160H400v160ZM180-400h160v-160H180v160Zm440 0h160v-160H620v160ZM180-180h160v-160H180v160Zm440 0h160v-160H620v160Z\"/>\n",
              "  </svg>\n",
              "    </button>\n",
              "\n",
              "  <style>\n",
              "    .colab-df-container {\n",
              "      display:flex;\n",
              "      gap: 12px;\n",
              "    }\n",
              "\n",
              "    .colab-df-convert {\n",
              "      background-color: #E8F0FE;\n",
              "      border: none;\n",
              "      border-radius: 50%;\n",
              "      cursor: pointer;\n",
              "      display: none;\n",
              "      fill: #1967D2;\n",
              "      height: 32px;\n",
              "      padding: 0 0 0 0;\n",
              "      width: 32px;\n",
              "    }\n",
              "\n",
              "    .colab-df-convert:hover {\n",
              "      background-color: #E2EBFA;\n",
              "      box-shadow: 0px 1px 2px rgba(60, 64, 67, 0.3), 0px 1px 3px 1px rgba(60, 64, 67, 0.15);\n",
              "      fill: #174EA6;\n",
              "    }\n",
              "\n",
              "    .colab-df-buttons div {\n",
              "      margin-bottom: 4px;\n",
              "    }\n",
              "\n",
              "    [theme=dark] .colab-df-convert {\n",
              "      background-color: #3B4455;\n",
              "      fill: #D2E3FC;\n",
              "    }\n",
              "\n",
              "    [theme=dark] .colab-df-convert:hover {\n",
              "      background-color: #434B5C;\n",
              "      box-shadow: 0px 1px 3px 1px rgba(0, 0, 0, 0.15);\n",
              "      filter: drop-shadow(0px 1px 2px rgba(0, 0, 0, 0.3));\n",
              "      fill: #FFFFFF;\n",
              "    }\n",
              "  </style>\n",
              "\n",
              "    <script>\n",
              "      const buttonEl =\n",
              "        document.querySelector('#df-50566025-1d61-4f2a-afd0-8133d44cd73b button.colab-df-convert');\n",
              "      buttonEl.style.display =\n",
              "        google.colab.kernel.accessAllowed ? 'block' : 'none';\n",
              "\n",
              "      async function convertToInteractive(key) {\n",
              "        const element = document.querySelector('#df-50566025-1d61-4f2a-afd0-8133d44cd73b');\n",
              "        const dataTable =\n",
              "          await google.colab.kernel.invokeFunction('convertToInteractive',\n",
              "                                                    [key], {});\n",
              "        if (!dataTable) return;\n",
              "\n",
              "        const docLinkHtml = 'Like what you see? Visit the ' +\n",
              "          '<a target=\"_blank\" href=https://colab.research.google.com/notebooks/data_table.ipynb>data table notebook</a>'\n",
              "          + ' to learn more about interactive tables.';\n",
              "        element.innerHTML = '';\n",
              "        dataTable['output_type'] = 'display_data';\n",
              "        await google.colab.output.renderOutput(dataTable, element);\n",
              "        const docLink = document.createElement('div');\n",
              "        docLink.innerHTML = docLinkHtml;\n",
              "        element.appendChild(docLink);\n",
              "      }\n",
              "    </script>\n",
              "  </div>\n",
              "\n",
              "\n",
              "<div id=\"df-50625a6f-2595-4da2-920f-4a9472977b41\">\n",
              "  <button class=\"colab-df-quickchart\" onclick=\"quickchart('df-50625a6f-2595-4da2-920f-4a9472977b41')\"\n",
              "            title=\"Suggest charts\"\n",
              "            style=\"display:none;\">\n",
              "\n",
              "<svg xmlns=\"http://www.w3.org/2000/svg\" height=\"24px\"viewBox=\"0 0 24 24\"\n",
              "     width=\"24px\">\n",
              "    <g>\n",
              "        <path d=\"M19 3H5c-1.1 0-2 .9-2 2v14c0 1.1.9 2 2 2h14c1.1 0 2-.9 2-2V5c0-1.1-.9-2-2-2zM9 17H7v-7h2v7zm4 0h-2V7h2v10zm4 0h-2v-4h2v4z\"/>\n",
              "    </g>\n",
              "</svg>\n",
              "  </button>\n",
              "\n",
              "<style>\n",
              "  .colab-df-quickchart {\n",
              "      --bg-color: #E8F0FE;\n",
              "      --fill-color: #1967D2;\n",
              "      --hover-bg-color: #E2EBFA;\n",
              "      --hover-fill-color: #174EA6;\n",
              "      --disabled-fill-color: #AAA;\n",
              "      --disabled-bg-color: #DDD;\n",
              "  }\n",
              "\n",
              "  [theme=dark] .colab-df-quickchart {\n",
              "      --bg-color: #3B4455;\n",
              "      --fill-color: #D2E3FC;\n",
              "      --hover-bg-color: #434B5C;\n",
              "      --hover-fill-color: #FFFFFF;\n",
              "      --disabled-bg-color: #3B4455;\n",
              "      --disabled-fill-color: #666;\n",
              "  }\n",
              "\n",
              "  .colab-df-quickchart {\n",
              "    background-color: var(--bg-color);\n",
              "    border: none;\n",
              "    border-radius: 50%;\n",
              "    cursor: pointer;\n",
              "    display: none;\n",
              "    fill: var(--fill-color);\n",
              "    height: 32px;\n",
              "    padding: 0;\n",
              "    width: 32px;\n",
              "  }\n",
              "\n",
              "  .colab-df-quickchart:hover {\n",
              "    background-color: var(--hover-bg-color);\n",
              "    box-shadow: 0 1px 2px rgba(60, 64, 67, 0.3), 0 1px 3px 1px rgba(60, 64, 67, 0.15);\n",
              "    fill: var(--button-hover-fill-color);\n",
              "  }\n",
              "\n",
              "  .colab-df-quickchart-complete:disabled,\n",
              "  .colab-df-quickchart-complete:disabled:hover {\n",
              "    background-color: var(--disabled-bg-color);\n",
              "    fill: var(--disabled-fill-color);\n",
              "    box-shadow: none;\n",
              "  }\n",
              "\n",
              "  .colab-df-spinner {\n",
              "    border: 2px solid var(--fill-color);\n",
              "    border-color: transparent;\n",
              "    border-bottom-color: var(--fill-color);\n",
              "    animation:\n",
              "      spin 1s steps(1) infinite;\n",
              "  }\n",
              "\n",
              "  @keyframes spin {\n",
              "    0% {\n",
              "      border-color: transparent;\n",
              "      border-bottom-color: var(--fill-color);\n",
              "      border-left-color: var(--fill-color);\n",
              "    }\n",
              "    20% {\n",
              "      border-color: transparent;\n",
              "      border-left-color: var(--fill-color);\n",
              "      border-top-color: var(--fill-color);\n",
              "    }\n",
              "    30% {\n",
              "      border-color: transparent;\n",
              "      border-left-color: var(--fill-color);\n",
              "      border-top-color: var(--fill-color);\n",
              "      border-right-color: var(--fill-color);\n",
              "    }\n",
              "    40% {\n",
              "      border-color: transparent;\n",
              "      border-right-color: var(--fill-color);\n",
              "      border-top-color: var(--fill-color);\n",
              "    }\n",
              "    60% {\n",
              "      border-color: transparent;\n",
              "      border-right-color: var(--fill-color);\n",
              "    }\n",
              "    80% {\n",
              "      border-color: transparent;\n",
              "      border-right-color: var(--fill-color);\n",
              "      border-bottom-color: var(--fill-color);\n",
              "    }\n",
              "    90% {\n",
              "      border-color: transparent;\n",
              "      border-bottom-color: var(--fill-color);\n",
              "    }\n",
              "  }\n",
              "</style>\n",
              "\n",
              "  <script>\n",
              "    async function quickchart(key) {\n",
              "      const quickchartButtonEl =\n",
              "        document.querySelector('#' + key + ' button');\n",
              "      quickchartButtonEl.disabled = true;  // To prevent multiple clicks.\n",
              "      quickchartButtonEl.classList.add('colab-df-spinner');\n",
              "      try {\n",
              "        const charts = await google.colab.kernel.invokeFunction(\n",
              "            'suggestCharts', [key], {});\n",
              "      } catch (error) {\n",
              "        console.error('Error during call to suggestCharts:', error);\n",
              "      }\n",
              "      quickchartButtonEl.classList.remove('colab-df-spinner');\n",
              "      quickchartButtonEl.classList.add('colab-df-quickchart-complete');\n",
              "    }\n",
              "    (() => {\n",
              "      let quickchartButtonEl =\n",
              "        document.querySelector('#df-50625a6f-2595-4da2-920f-4a9472977b41 button');\n",
              "      quickchartButtonEl.style.display =\n",
              "        google.colab.kernel.accessAllowed ? 'block' : 'none';\n",
              "    })();\n",
              "  </script>\n",
              "</div>\n",
              "\n",
              "    </div>\n",
              "  </div>\n"
            ],
            "application/vnd.google.colaboratory.intrinsic+json": {
              "type": "dataframe",
              "summary": "{\n  \"name\": \"insurance_dataset\",\n  \"rows\": 8,\n  \"fields\": [\n    {\n      \"column\": \"age\",\n      \"properties\": {\n        \"dtype\": \"number\",\n        \"std\": 460.6106090399993,\n        \"min\": 14.049960379216154,\n        \"max\": 1338.0,\n        \"num_unique_values\": 8,\n        \"samples\": [\n          39.20702541106129,\n          39.0,\n          1338.0\n        ],\n        \"semantic_type\": \"\",\n        \"description\": \"\"\n      }\n    },\n    {\n      \"column\": \"bmi\",\n      \"properties\": {\n        \"dtype\": \"number\",\n        \"std\": 463.29524977918294,\n        \"min\": 6.098186911679014,\n        \"max\": 1338.0,\n        \"num_unique_values\": 8,\n        \"samples\": [\n          30.66339686098655,\n          30.4,\n          1338.0\n        ],\n        \"semantic_type\": \"\",\n        \"description\": \"\"\n      }\n    },\n    {\n      \"column\": \"children\",\n      \"properties\": {\n        \"dtype\": \"number\",\n        \"std\": 472.5368318870757,\n        \"min\": 0.0,\n        \"max\": 1338.0,\n        \"num_unique_values\": 7,\n        \"samples\": [\n          1338.0,\n          1.0949177877429,\n          2.0\n        ],\n        \"semantic_type\": \"\",\n        \"description\": \"\"\n      }\n    },\n    {\n      \"column\": \"charges\",\n      \"properties\": {\n        \"dtype\": \"number\",\n        \"std\": 20381.922846226596,\n        \"min\": 1121.8739,\n        \"max\": 63770.42801,\n        \"num_unique_values\": 8,\n        \"samples\": [\n          13270.422265141257,\n          9382.033,\n          1338.0\n        ],\n        \"semantic_type\": \"\",\n        \"description\": \"\"\n      }\n    }\n  ]\n}"
            }
          },
          "metadata": {},
          "execution_count": 41
        }
      ],
      "source": [
        "# exibindo as medidas estatísticas do dataset\n",
        "insurance_dataset.describe()"
      ]
    },
    {
      "cell_type": "code",
      "source": [
        "# exibindo quantidade de pessoas por idade\n",
        "insurance_dataset['age'].value_counts()\n"
      ],
      "metadata": {
        "colab": {
          "base_uri": "https://localhost:8080/"
        },
        "id": "lDty2T50sDYL",
        "outputId": "b5fa680b-1707-4e4a-c763-464e3924cd28"
      },
      "execution_count": 42,
      "outputs": [
        {
          "output_type": "execute_result",
          "data": {
            "text/plain": [
              "age\n",
              "18    69\n",
              "19    68\n",
              "50    29\n",
              "51    29\n",
              "47    29\n",
              "46    29\n",
              "45    29\n",
              "20    29\n",
              "48    29\n",
              "52    29\n",
              "22    28\n",
              "49    28\n",
              "54    28\n",
              "53    28\n",
              "21    28\n",
              "26    28\n",
              "24    28\n",
              "25    28\n",
              "28    28\n",
              "27    28\n",
              "23    28\n",
              "43    27\n",
              "29    27\n",
              "30    27\n",
              "41    27\n",
              "42    27\n",
              "44    27\n",
              "31    27\n",
              "40    27\n",
              "32    26\n",
              "33    26\n",
              "56    26\n",
              "34    26\n",
              "55    26\n",
              "57    26\n",
              "37    25\n",
              "59    25\n",
              "58    25\n",
              "36    25\n",
              "38    25\n",
              "35    25\n",
              "39    25\n",
              "61    23\n",
              "60    23\n",
              "63    23\n",
              "62    23\n",
              "64    22\n",
              "Name: count, dtype: int64"
            ]
          },
          "metadata": {},
          "execution_count": 42
        }
      ]
    },
    {
      "cell_type": "markdown",
      "source": [],
      "metadata": {
        "id": "4tzwMF3rws-Q"
      }
    },
    {
      "cell_type": "code",
      "execution_count": 48,
      "metadata": {
        "colab": {
          "base_uri": "https://localhost:8080/"
        },
        "id": "zV5Jx_ytVmIy",
        "outputId": "dc18fa50-cb2e-4d39-c56e-7e7f54abdddd"
      },
      "outputs": [
        {
          "output_type": "execute_result",
          "data": {
            "text/plain": [
              "sex\n",
              "male      676\n",
              "female    662\n",
              "Name: count, dtype: int64"
            ]
          },
          "metadata": {},
          "execution_count": 48
        }
      ],
      "source": [
        "# exibindo quantidade de pessoas por sexo\n",
        "insurance_dataset['sex'].value_counts()"
      ]
    },
    {
      "cell_type": "code",
      "execution_count": 33,
      "metadata": {
        "colab": {
          "base_uri": "https://localhost:8080/"
        },
        "id": "4TMelPK-Wx5x",
        "outputId": "a15ac9ef-c100-4506-ce0c-a2c632b0cd87"
      },
      "outputs": [
        {
          "output_type": "execute_result",
          "data": {
            "text/plain": [
              "children\n",
              "0    573\n",
              "1    324\n",
              "2    240\n",
              "3    157\n",
              "4     25\n",
              "5     18\n",
              "Name: count, dtype: int64"
            ]
          },
          "metadata": {},
          "execution_count": 33
        }
      ],
      "source": [
        "# exibindo quantidade de pessoas por filhos\n",
        "insurance_dataset['children'].value_counts()"
      ]
    },
    {
      "cell_type": "code",
      "execution_count": 43,
      "metadata": {
        "colab": {
          "base_uri": "https://localhost:8080/",
          "height": 764
        },
        "id": "thRxLvZwUJNW",
        "outputId": "1d246c44-20ca-4bb5-aff7-71c79b01b2be"
      },
      "outputs": [
        {
          "output_type": "stream",
          "name": "stderr",
          "text": [
            "<ipython-input-43-5ee5d62ef68e>:4: UserWarning: \n",
            "\n",
            "`distplot` is a deprecated function and will be removed in seaborn v0.14.0.\n",
            "\n",
            "Please adapt your code to use either `displot` (a figure-level function with\n",
            "similar flexibility) or `histplot` (an axes-level function for histograms).\n",
            "\n",
            "For a guide to updating your code to use the new functions, please see\n",
            "https://gist.github.com/mwaskom/de44147ed2974457ad6372750bbe5751\n",
            "\n",
            "  sns.distplot(insurance_dataset['age'])\n"
          ]
        },
        {
          "output_type": "display_data",
          "data": {
            "text/plain": [
              "<Figure size 600x600 with 1 Axes>"
            ],
            "image/png": "[encoded data removed]"
          },
          "metadata": {}
        }
      ],
      "source": [
        "# distribuição por idade\n",
        "sns.set()\n",
        "plt.figure(figsize=(6,6))\n",
        "sns.distplot(insurance_dataset['age'])\n",
        "plt.title('Distribuição por idade')\n",
        "plt.show()"
      ]
    },
    {
      "cell_type": "code",
      "execution_count": 50,
      "metadata": {
        "colab": {
          "base_uri": "https://localhost:8080/",
          "height": 573
        },
        "id": "sJaFjdJJU644",
        "outputId": "b8c30117-5da7-409c-b427-e57b5b28de9c"
      },
      "outputs": [
        {
          "output_type": "display_data",
          "data": {
            "text/plain": [
              "<Figure size 600x600 with 1 Axes>"
            ],
            "image/png": "[encoded data removed]"
          },
          "metadata": {}
        }
      ],
      "source": [
        "# distribuição por gênero ou sexo\n",
        "plt.figure(figsize=(6,6))\n",
        "sns.countplot(x='sex', data=insurance_dataset)\n",
        "plt.title('Distribuição por sexo')\n",
        "plt.show()"
      ]
    },
    {
      "cell_type": "code",
      "execution_count": 51,
      "metadata": {
        "colab": {
          "base_uri": "https://localhost:8080/",
          "height": 764
        },
        "id": "bqUZ1u_9Vyg_",
        "outputId": "9cfc5e05-d8b5-4789-96cf-4eeb028676af"
      },
      "outputs": [
        {
          "output_type": "stream",
          "name": "stderr",
          "text": [
            "<ipython-input-51-bdb0c622d929>:3: UserWarning: \n",
            "\n",
            "`distplot` is a deprecated function and will be removed in seaborn v0.14.0.\n",
            "\n",
            "Please adapt your code to use either `displot` (a figure-level function with\n",
            "similar flexibility) or `histplot` (an axes-level function for histograms).\n",
            "\n",
            "For a guide to updating your code to use the new functions, please see\n",
            "https://gist.github.com/mwaskom/de44147ed2974457ad6372750bbe5751\n",
            "\n",
            "  sns.distplot(insurance_dataset['bmi'])\n"
          ]
        },
        {
          "output_type": "display_data",
          "data": {
            "text/plain": [
              "<Figure size 600x600 with 1 Axes>"
            ],
            "image/png": "[encoded data removed]"
          },
          "metadata": {}
        }
      ],
      "source": [
        "# distribuição por IMC - Indíce por Massa Corporal\n",
        "plt.figure(figsize=(6,6))\n",
        "sns.distplot(insurance_dataset['bmi'])\n",
        "plt.title('Distribuição por IMC')\n",
        "plt.show()"
      ]
    },
    {
      "cell_type": "markdown",
      "metadata": {
        "id": "0wAqPe_vWJ23"
      },
      "source": [
        "Faixa IMC NORMAL --> 18.5 to 24.9"
      ]
    },
    {
      "cell_type": "code",
      "source": [],
      "metadata": {
        "id": "c92JejDlsBIZ"
      },
      "execution_count": 51,
      "outputs": []
    },
    {
      "cell_type": "code",
      "execution_count": 52,
      "metadata": {
        "colab": {
          "base_uri": "https://localhost:8080/",
          "height": 573
        },
        "id": "xNwyB3IzWAsU",
        "outputId": "1305260c-700e-4909-bb74-4dbac92dfab9"
      },
      "outputs": [
        {
          "output_type": "display_data",
          "data": {
            "text/plain": [
              "<Figure size 600x600 with 1 Axes>"
            ],
            "image/png": "[encoded data removed]"
          },
          "metadata": {}
        }
      ],
      "source": [
        "# distribuição por filhos\n",
        "plt.figure(figsize=(6,6))\n",
        "sns.countplot(x='children', data=insurance_dataset)\n",
        "plt.title('Distribuição por filhos')\n",
        "plt.show()"
      ]
    },
    {
      "cell_type": "code",
      "execution_count": 53,
      "metadata": {
        "colab": {
          "base_uri": "https://localhost:8080/",
          "height": 573
        },
        "id": "poIPFFSBW9n4",
        "outputId": "b0fcbc5a-e57f-44cf-b009-63e0736176cf"
      },
      "outputs": [
        {
          "output_type": "display_data",
          "data": {
            "text/plain": [
              "<Figure size 600x600 with 1 Axes>"
            ],
            "image/png": "[encoded data removed]"
          },
          "metadata": {}
        }
      ],
      "source": [
        "# distribuição por fumante\n",
        "plt.figure(figsize=(6,6))\n",
        "sns.countplot(x='smoker', data=insurance_dataset)\n",
        "plt.title('Distribuição por fumante')\n",
        "plt.show()"
      ]
    },
    {
      "cell_type": "code",
      "execution_count": 54,
      "metadata": {
        "colab": {
          "base_uri": "https://localhost:8080/"
        },
        "id": "2OHFYb59XI2h",
        "outputId": "e161a654-569d-4f44-f746-08c79e63c788"
      },
      "outputs": [
        {
          "output_type": "execute_result",
          "data": {
            "text/plain": [
              "smoker\n",
              "no     1064\n",
              "yes     274\n",
              "Name: count, dtype: int64"
            ]
          },
          "metadata": {},
          "execution_count": 54
        }
      ],
      "source": [
        "# exibindo quantidade de pessoas por fumante\n",
        "insurance_dataset['smoker'].value_counts()"
      ]
    },
    {
      "cell_type": "code",
      "source": [],
      "metadata": {
        "id": "9pqlt1Hjr8UD"
      },
      "execution_count": null,
      "outputs": []
    },
    {
      "cell_type": "code",
      "execution_count": 56,
      "metadata": {
        "colab": {
          "base_uri": "https://localhost:8080/",
          "height": 573
        },
        "id": "5972T2X4XRkv",
        "outputId": "7af67db1-f130-4c22-ff67-311d14384f4f"
      },
      "outputs": [
        {
          "output_type": "display_data",
          "data": {
            "text/plain": [
              "<Figure size 600x600 with 1 Axes>"
            ],
            "image/png": "[encoded data removed]"
          },
          "metadata": {}
        }
      ],
      "source": [
        "# distribuição por região\n",
        "plt.figure(figsize=(6,6))\n",
        "sns.countplot(x='region', data=insurance_dataset)\n",
        "plt.title('distribuição por região')\n",
        "plt.show()"
      ]
    },
    {
      "cell_type": "code",
      "execution_count": 57,
      "metadata": {
        "colab": {
          "base_uri": "https://localhost:8080/"
        },
        "id": "rkckkdYVXYnV",
        "outputId": "4ecd3c72-9e3b-42cc-e026-27f79cbf8ca5"
      },
      "outputs": [
        {
          "output_type": "execute_result",
          "data": {
            "text/plain": [
              "region\n",
              "southeast    364\n",
              "southwest    325\n",
              "northwest    325\n",
              "northeast    324\n",
              "Name: count, dtype: int64"
            ]
          },
          "metadata": {},
          "execution_count": 57
        }
      ],
      "source": [
        "insurance_dataset['region'].value_counts()"
      ]
    },
    {
      "cell_type": "code",
      "execution_count": 58,
      "metadata": {
        "colab": {
          "base_uri": "https://localhost:8080/",
          "height": 764
        },
        "id": "vV_nE8lNXgji",
        "outputId": "729ea857-7534-4b9b-83d3-124ba03bee1c"
      },
      "outputs": [
        {
          "output_type": "stream",
          "name": "stderr",
          "text": [
            "<ipython-input-58-0ad5dbc84d3f>:3: UserWarning: \n",
            "\n",
            "`distplot` is a deprecated function and will be removed in seaborn v0.14.0.\n",
            "\n",
            "Please adapt your code to use either `displot` (a figure-level function with\n",
            "similar flexibility) or `histplot` (an axes-level function for histograms).\n",
            "\n",
            "For a guide to updating your code to use the new functions, please see\n",
            "https://gist.github.com/mwaskom/de44147ed2974457ad6372750bbe5751\n",
            "\n",
            "  sns.distplot(insurance_dataset['charges'])\n"
          ]
        },
        {
          "output_type": "display_data",
          "data": {
            "text/plain": [
              "<Figure size 600x600 with 1 Axes>"
            ],
            "image/png": "[encoded data removed]"
          },
          "metadata": {}
        }
      ],
      "source": [
        "# distribuição dos valores de encargos ou custo\n",
        "plt.figure(figsize=(6,6))\n",
        "sns.distplot(insurance_dataset['charges'])\n",
        "plt.title('Distribuição de encargos')\n",
        "plt.show()"
      ]
    },
    {
      "cell_type": "markdown",
      "metadata": {
        "id": "gKYZDvzqX3iR"
      },
      "source": [
        "## Seção 4 - Pré-processamento de dados"
      ]
    },
    {
      "cell_type": "markdown",
      "source": [],
      "metadata": {
        "id": "AO0w6hy50G0X"
      }
    },
    {
      "cell_type": "markdown",
      "metadata": {
        "id": "pr9nJq15YFsY"
      },
      "source": [
        "Transformando as variáveis categóricas em númericas(sexo, fumante e região)"
      ]
    },
    {
      "cell_type": "code",
      "execution_count": 70,
      "metadata": {
        "id": "QVXYBAt_XwPO"
      },
      "outputs": [],
      "source": [
        "# normalizando  a variável 'sexo',\n",
        "insurance_dataset.replace({'sex':{'male':0,'female':1}}, inplace=True)\n",
        "\n",
        "# normalizando a coluna 'fumante'\n",
        "insurance_dataset.replace({'smoker':{'yes':0,'no':1}}, inplace=True)\n",
        "\n",
        "# normalizando  a coluna 'região'\n",
        "insurance_dataset.replace({'region':{'southeast':0,'southwest':1,'northeast':2,'northwest':3}}, inplace=True)"
      ]
    },
    {
      "cell_type": "markdown",
      "metadata": {
        "id": "EL0T11t-ZdNF"
      },
      "source": [
        "Dividindo as variáveis features e target ou alvo (encargos)"
      ]
    },
    {
      "cell_type": "code",
      "execution_count": 71,
      "metadata": {
        "id": "Z5UK60q_ZMgr"
      },
      "outputs": [],
      "source": [
        "X = insurance_dataset.drop(columns='charges', axis=1)\n",
        "Y = insurance_dataset['charges']"
      ]
    },
    {
      "cell_type": "code",
      "execution_count": null,
      "metadata": {
        "colab": {
          "base_uri": "https://localhost:8080/"
        },
        "id": "ACFgPgoUZvzP",
        "outputId": "b254ac10-b391-49d1-b751-b7d3ec129511"
      },
      "outputs": [
        {
          "output_type": "stream",
          "name": "stdout",
          "text": [
            "      age     sex     bmi  children smoker  region\n",
            "0      19  female  27.900         0    yes       1\n",
            "1      18    male  33.770         1     no       0\n",
            "2      28    male  33.000         3     no       0\n",
            "3      33    male  22.705         0     no       3\n",
            "4      32    male  28.880         0     no       3\n",
            "...   ...     ...     ...       ...    ...     ...\n",
            "1333   50    male  30.970         3     no       3\n",
            "1334   18  female  31.920         0     no       2\n",
            "1335   18  female  36.850         0     no       0\n",
            "1336   21  female  25.800         0     no       1\n",
            "1337   61  female  29.070         0    yes       3\n",
            "\n",
            "[1337 rows x 6 columns]\n"
          ]
        }
      ],
      "source": [
        "print(X)"
      ]
    },
    {
      "cell_type": "code",
      "execution_count": 72,
      "metadata": {
        "colab": {
          "base_uri": "https://localhost:8080/"
        },
        "id": "7zcw-kgaZxvI",
        "outputId": "16116863-dd00-420f-df3b-9dcecdc49ae5"
      },
      "outputs": [
        {
          "output_type": "stream",
          "name": "stdout",
          "text": [
            "0       16884.92400\n",
            "1        1725.55230\n",
            "2        4449.46200\n",
            "3       21984.47061\n",
            "4        3866.85520\n",
            "           ...     \n",
            "1333    10600.54830\n",
            "1334     2205.98080\n",
            "1335     1629.83350\n",
            "1336     2007.94500\n",
            "1337    29141.36030\n",
            "Name: charges, Length: 1338, dtype: float64\n"
          ]
        }
      ],
      "source": [
        "print(Y)"
      ]
    },
    {
      "cell_type": "markdown",
      "metadata": {
        "id": "N56oAuY3bQSF"
      },
      "source": [
        "Dividindo o dataset em dados de treinamento(80%) e teste(20%)"
      ]
    },
    {
      "cell_type": "markdown",
      "metadata": {
        "id": "DQoIaogAcCF2"
      },
      "source": [
        "## Seção 5 - Treinamento de modelo"
      ]
    },
    {
      "cell_type": "code",
      "execution_count": 73,
      "metadata": {
        "id": "8HQEpONYbL0-"
      },
      "outputs": [],
      "source": [
        "# dividindo o dataset em dados de treinamento(80%) e teste(20%)\n",
        "X_treino, X_teste, Y_treino, Y_teste = train_test_split(X, Y, test_size=0.2, random_state=2)"
      ]
    },
    {
      "cell_type": "code",
      "execution_count": 66,
      "metadata": {
        "colab": {
          "base_uri": "https://localhost:8080/"
        },
        "id": "GKh0p46hb3iD",
        "outputId": "6558a24e-10aa-4db8-c40f-e1142761eb71"
      },
      "outputs": [
        {
          "output_type": "stream",
          "name": "stdout",
          "text": [
            "(1338, 6) (1070, 6) (268, 6)\n"
          ]
        }
      ],
      "source": [
        "print(X.shape, X_treino.shape, X_teste.shape)"
      ]
    },
    {
      "cell_type": "markdown",
      "metadata": {
        "id": "OWHECK0Lwbv6"
      },
      "source": []
    },
    {
      "cell_type": "markdown",
      "metadata": {
        "id": "-1RWRMnncEJj"
      },
      "source": [
        "### 1 - Usando o modelo Regressão Linear"
      ]
    },
    {
      "cell_type": "code",
      "execution_count": 98,
      "metadata": {
        "id": "18wYy3bub9ej"
      },
      "outputs": [],
      "source": [
        "# carregando o modelo de regressão linear\n",
        "regressor = LinearRegression()"
      ]
    },
    {
      "cell_type": "code",
      "execution_count": 99,
      "metadata": {
        "id": "yRHiG9dqcxxN",
        "colab": {
          "base_uri": "https://localhost:8080/",
          "height": 75
        },
        "outputId": "f4a4563b-eab1-4b8c-e558-2cd6c42a3a28"
      },
      "outputs": [
        {
          "output_type": "execute_result",
          "data": {
            "text/plain": [
              "LinearRegression()"
            ],
            "text/html": [
              "<style>#sk-container-id-5 {color: black;background-color: white;}#sk-container-id-5 pre{padding: 0;}#sk-container-id-5 div.sk-toggleable {background-color: white;}#sk-container-id-5 label.sk-toggleable__label {cursor: pointer;display: block;width: 100%;margin-bottom: 0;padding: 0.3em;box-sizing: border-box;text-align: center;}#sk-container-id-5 label.sk-toggleable__label-arrow:before {content: \"▸\";float: left;margin-right: 0.25em;color: #696969;}#sk-container-id-5 label.sk-toggleable__label-arrow:hover:before {color: black;}#sk-container-id-5 div.sk-estimator:hover label.sk-toggleable__label-arrow:before {color: black;}#sk-container-id-5 div.sk-toggleable__content {max-height: 0;max-width: 0;overflow: hidden;text-align: left;background-color: #f0f8ff;}#sk-container-id-5 div.sk-toggleable__content pre {margin: 0.2em;color: black;border-radius: 0.25em;background-color: #f0f8ff;}#sk-container-id-5 input.sk-toggleable__control:checked~div.sk-toggleable__content {max-height: 200px;max-width: 100%;overflow: auto;}#sk-container-id-5 input.sk-toggleable__control:checked~label.sk-toggleable__label-arrow:before {content: \"▾\";}#sk-container-id-5 div.sk-estimator input.sk-toggleable__control:checked~label.sk-toggleable__label {background-color: #d4ebff;}#sk-container-id-5 div.sk-label input.sk-toggleable__control:checked~label.sk-toggleable__label {background-color: #d4ebff;}#sk-container-id-5 input.sk-hidden--visually {border: 0;clip: rect(1px 1px 1px 1px);clip: rect(1px, 1px, 1px, 1px);height: 1px;margin: -1px;overflow: hidden;padding: 0;position: absolute;width: 1px;}#sk-container-id-5 div.sk-estimator {font-family: monospace;background-color: #f0f8ff;border: 1px dotted black;border-radius: 0.25em;box-sizing: border-box;margin-bottom: 0.5em;}#sk-container-id-5 div.sk-estimator:hover {background-color: #d4ebff;}#sk-container-id-5 div.sk-parallel-item::after {content: \"\";width: 100%;border-bottom: 1px solid gray;flex-grow: 1;}#sk-container-id-5 div.sk-label:hover label.sk-toggleable__label {background-color: #d4ebff;}#sk-container-id-5 div.sk-serial::before {content: \"\";position: absolute;border-left: 1px solid gray;box-sizing: border-box;top: 0;bottom: 0;left: 50%;z-index: 0;}#sk-container-id-5 div.sk-serial {display: flex;flex-direction: column;align-items: center;background-color: white;padding-right: 0.2em;padding-left: 0.2em;position: relative;}#sk-container-id-5 div.sk-item {position: relative;z-index: 1;}#sk-container-id-5 div.sk-parallel {display: flex;align-items: stretch;justify-content: center;background-color: white;position: relative;}#sk-container-id-5 div.sk-item::before, #sk-container-id-5 div.sk-parallel-item::before {content: \"\";position: absolute;border-left: 1px solid gray;box-sizing: border-box;top: 0;bottom: 0;left: 50%;z-index: -1;}#sk-container-id-5 div.sk-parallel-item {display: flex;flex-direction: column;z-index: 1;position: relative;background-color: white;}#sk-container-id-5 div.sk-parallel-item:first-child::after {align-self: flex-end;width: 50%;}#sk-container-id-5 div.sk-parallel-item:last-child::after {align-self: flex-start;width: 50%;}#sk-container-id-5 div.sk-parallel-item:only-child::after {width: 0;}#sk-container-id-5 div.sk-dashed-wrapped {border: 1px dashed gray;margin: 0 0.4em 0.5em 0.4em;box-sizing: border-box;padding-bottom: 0.4em;background-color: white;}#sk-container-id-5 div.sk-label label {font-family: monospace;font-weight: bold;display: inline-block;line-height: 1.2em;}#sk-container-id-5 div.sk-label-container {text-align: center;}#sk-container-id-5 div.sk-container {/* jupyter's `normalize.less` sets `[hidden] { display: none; }` but bootstrap.min.css set `[hidden] { display: none !important; }` so we also need the `!important` here to be able to override the default hidden behavior on the sphinx rendered scikit-learn.org. See: https://github.com/scikit-learn/scikit-learn/issues/21755 */display: inline-block !important;position: relative;}#sk-container-id-5 div.sk-text-repr-fallback {display: none;}</style><div id=\"sk-container-id-5\" class=\"sk-top-container\"><div class=\"sk-text-repr-fallback\"><pre>LinearRegression()</pre><b>In a Jupyter environment, please rerun this cell to show the HTML representation or trust the notebook. <br />On GitHub, the HTML representation is unable to render, please try loading this page with nbviewer.org.</b></div><div class=\"sk-container\" hidden><div class=\"sk-item\"><div class=\"sk-estimator sk-toggleable\"><input class=\"sk-toggleable__control sk-hidden--visually\" id=\"sk-estimator-id-5\" type=\"checkbox\" checked><label for=\"sk-estimator-id-5\" class=\"sk-toggleable__label sk-toggleable__label-arrow\">LinearRegression</label><div class=\"sk-toggleable__content\"><pre>LinearRegression()</pre></div></div></div></div></div>"
            ]
          },
          "metadata": {},
          "execution_count": 99
        }
      ],
      "source": [
        "# treinando o modelo de regressão linear\n",
        "regressor.fit(X_treino, Y_treino)"
      ]
    },
    {
      "cell_type": "markdown",
      "metadata": {
        "id": "kJBLHnb02Bux"
      },
      "source": []
    },
    {
      "cell_type": "markdown",
      "metadata": {
        "id": "PGM93AzWc-VJ"
      },
      "source": [
        "**Avaliação do modelo de regressão linear **"
      ]
    },
    {
      "cell_type": "code",
      "execution_count": 100,
      "metadata": {
        "id": "NhRL9x_wc6-p"
      },
      "outputs": [],
      "source": [
        "# fazendo predição de treinamento do modelo de regressão linear\n",
        "training_data_prediction =regressor.predict(X_treino)"
      ]
    },
    {
      "cell_type": "code",
      "execution_count": null,
      "metadata": {
        "id": "mQbYRe4-o2sE"
      },
      "outputs": [],
      "source": []
    },
    {
      "cell_type": "code",
      "execution_count": 79,
      "metadata": {
        "colab": {
          "base_uri": "https://localhost:8080/"
        },
        "id": "bQ8gnyDMdMSb",
        "outputId": "8e054ff3-ef9b-4891-9487-be2b39dbc4c9"
      },
      "outputs": [
        {
          "output_type": "stream",
          "name": "stdout",
          "text": [
            "r2_treino: 0.751505643411174\n"
          ]
        }
      ],
      "source": [
        "# aplicando métrica R squared\n",
        "r2_treino = metrics.r2_score(Y_treino, training_data_prediction)\n",
        "print('r2_treino:', r2_treino)"
      ]
    },
    {
      "cell_type": "code",
      "execution_count": 101,
      "metadata": {
        "id": "pHQSjvekdsgO"
      },
      "outputs": [],
      "source": [
        "# fazendo predição usando os dados de teste\n",
        "test_data_prediction =regressor.predict(X_teste)"
      ]
    },
    {
      "cell_type": "code",
      "execution_count": 102,
      "metadata": {
        "colab": {
          "base_uri": "https://localhost:8080/"
        },
        "id": "YWPIzD8ud5KA",
        "outputId": "4d2d7f9c-3537-4c82-893b-bf43722dd2fc"
      },
      "outputs": [
        {
          "output_type": "stream",
          "name": "stdout",
          "text": [
            "r2_teste: 0.7447273869684076\n"
          ]
        }
      ],
      "source": [
        "# aplicando a métrica r2\n",
        "r2_teste = metrics.r2_score(Y_teste, test_data_prediction)\n",
        "print('r2_teste:', r2_teste)"
      ]
    },
    {
      "cell_type": "code",
      "execution_count": null,
      "metadata": {
        "id": "KHjyEiWqAL5y"
      },
      "outputs": [],
      "source": []
    },
    {
      "cell_type": "markdown",
      "metadata": {
        "id": "0OK519Hc2VM_"
      },
      "source": []
    },
    {
      "cell_type": "markdown",
      "metadata": {
        "id": "l_lyaA6B2W0K"
      },
      "source": [
        "### 2 - Usando o modelo random forest\n"
      ]
    },
    {
      "cell_type": "code",
      "execution_count": 103,
      "metadata": {
        "id": "vJkKIweS2ejz"
      },
      "outputs": [],
      "source": [
        "# carregando o modelo de randon forest\n",
        "from sklearn.ensemble import RandomForestRegressor\n",
        "regressor_rf = RandomForestRegressor()\n",
        "\n"
      ]
    },
    {
      "cell_type": "code",
      "execution_count": 104,
      "metadata": {
        "colab": {
          "base_uri": "https://localhost:8080/",
          "height": 75
        },
        "id": "mxiYuwV723G3",
        "outputId": "1bf7c24f-85f7-4a84-c178-bbcdb5a6f5fa"
      },
      "outputs": [
        {
          "output_type": "execute_result",
          "data": {
            "text/plain": [
              "RandomForestRegressor()"
            ],
            "text/html": [
              "<style>#sk-container-id-6 {color: black;background-color: white;}#sk-container-id-6 pre{padding: 0;}#sk-container-id-6 div.sk-toggleable {background-color: white;}#sk-container-id-6 label.sk-toggleable__label {cursor: pointer;display: block;width: 100%;margin-bottom: 0;padding: 0.3em;box-sizing: border-box;text-align: center;}#sk-container-id-6 label.sk-toggleable__label-arrow:before {content: \"▸\";float: left;margin-right: 0.25em;color: #696969;}#sk-container-id-6 label.sk-toggleable__label-arrow:hover:before {color: black;}#sk-container-id-6 div.sk-estimator:hover label.sk-toggleable__label-arrow:before {color: black;}#sk-container-id-6 div.sk-toggleable__content {max-height: 0;max-width: 0;overflow: hidden;text-align: left;background-color: #f0f8ff;}#sk-container-id-6 div.sk-toggleable__content pre {margin: 0.2em;color: black;border-radius: 0.25em;background-color: #f0f8ff;}#sk-container-id-6 input.sk-toggleable__control:checked~div.sk-toggleable__content {max-height: 200px;max-width: 100%;overflow: auto;}#sk-container-id-6 input.sk-toggleable__control:checked~label.sk-toggleable__label-arrow:before {content: \"▾\";}#sk-container-id-6 div.sk-estimator input.sk-toggleable__control:checked~label.sk-toggleable__label {background-color: #d4ebff;}#sk-container-id-6 div.sk-label input.sk-toggleable__control:checked~label.sk-toggleable__label {background-color: #d4ebff;}#sk-container-id-6 input.sk-hidden--visually {border: 0;clip: rect(1px 1px 1px 1px);clip: rect(1px, 1px, 1px, 1px);height: 1px;margin: -1px;overflow: hidden;padding: 0;position: absolute;width: 1px;}#sk-container-id-6 div.sk-estimator {font-family: monospace;background-color: #f0f8ff;border: 1px dotted black;border-radius: 0.25em;box-sizing: border-box;margin-bottom: 0.5em;}#sk-container-id-6 div.sk-estimator:hover {background-color: #d4ebff;}#sk-container-id-6 div.sk-parallel-item::after {content: \"\";width: 100%;border-bottom: 1px solid gray;flex-grow: 1;}#sk-container-id-6 div.sk-label:hover label.sk-toggleable__label {background-color: #d4ebff;}#sk-container-id-6 div.sk-serial::before {content: \"\";position: absolute;border-left: 1px solid gray;box-sizing: border-box;top: 0;bottom: 0;left: 50%;z-index: 0;}#sk-container-id-6 div.sk-serial {display: flex;flex-direction: column;align-items: center;background-color: white;padding-right: 0.2em;padding-left: 0.2em;position: relative;}#sk-container-id-6 div.sk-item {position: relative;z-index: 1;}#sk-container-id-6 div.sk-parallel {display: flex;align-items: stretch;justify-content: center;background-color: white;position: relative;}#sk-container-id-6 div.sk-item::before, #sk-container-id-6 div.sk-parallel-item::before {content: \"\";position: absolute;border-left: 1px solid gray;box-sizing: border-box;top: 0;bottom: 0;left: 50%;z-index: -1;}#sk-container-id-6 div.sk-parallel-item {display: flex;flex-direction: column;z-index: 1;position: relative;background-color: white;}#sk-container-id-6 div.sk-parallel-item:first-child::after {align-self: flex-end;width: 50%;}#sk-container-id-6 div.sk-parallel-item:last-child::after {align-self: flex-start;width: 50%;}#sk-container-id-6 div.sk-parallel-item:only-child::after {width: 0;}#sk-container-id-6 div.sk-dashed-wrapped {border: 1px dashed gray;margin: 0 0.4em 0.5em 0.4em;box-sizing: border-box;padding-bottom: 0.4em;background-color: white;}#sk-container-id-6 div.sk-label label {font-family: monospace;font-weight: bold;display: inline-block;line-height: 1.2em;}#sk-container-id-6 div.sk-label-container {text-align: center;}#sk-container-id-6 div.sk-container {/* jupyter's `normalize.less` sets `[hidden] { display: none; }` but bootstrap.min.css set `[hidden] { display: none !important; }` so we also need the `!important` here to be able to override the default hidden behavior on the sphinx rendered scikit-learn.org. See: https://github.com/scikit-learn/scikit-learn/issues/21755 */display: inline-block !important;position: relative;}#sk-container-id-6 div.sk-text-repr-fallback {display: none;}</style><div id=\"sk-container-id-6\" class=\"sk-top-container\"><div class=\"sk-text-repr-fallback\"><pre>RandomForestRegressor()</pre><b>In a Jupyter environment, please rerun this cell to show the HTML representation or trust the notebook. <br />On GitHub, the HTML representation is unable to render, please try loading this page with nbviewer.org.</b></div><div class=\"sk-container\" hidden><div class=\"sk-item\"><div class=\"sk-estimator sk-toggleable\"><input class=\"sk-toggleable__control sk-hidden--visually\" id=\"sk-estimator-id-6\" type=\"checkbox\" checked><label for=\"sk-estimator-id-6\" class=\"sk-toggleable__label sk-toggleable__label-arrow\">RandomForestRegressor</label><div class=\"sk-toggleable__content\"><pre>RandomForestRegressor()</pre></div></div></div></div></div>"
            ]
          },
          "metadata": {},
          "execution_count": 104
        }
      ],
      "source": [
        "# treinando com dados de treinamento do modelo randon forest\n",
        "regressor_rf.fit(X_treino, Y_treino)"
      ]
    },
    {
      "cell_type": "code",
      "execution_count": 88,
      "metadata": {
        "id": "cyPFGAWP3Y5W"
      },
      "outputs": [],
      "source": [
        "# fazendo predição do modelo random forest usando os dados de teste\n",
        "test_data_prediction_rf =regressor_rf.predict(X_teste)"
      ]
    },
    {
      "cell_type": "code",
      "execution_count": 105,
      "metadata": {
        "colab": {
          "base_uri": "https://localhost:8080/"
        },
        "id": "khBq2PfA4UvI",
        "outputId": "72793a8f-ea5e-4560-8f2d-8d6c90e425b5"
      },
      "outputs": [
        {
          "output_type": "stream",
          "name": "stdout",
          "text": [
            "r2_teste_rf: 0.8404003211727582\n"
          ]
        }
      ],
      "source": [
        "# aplicando métrica r2 no modelo random forest\n",
        "r2_rf_teste = metrics.r2_score(Y_teste, test_data_prediction_rf)\n",
        "print('r2_teste_rf:', r2_rf_teste)"
      ]
    },
    {
      "cell_type": "markdown",
      "metadata": {
        "id": "AHzX_S4P49z8"
      },
      "source": [
        "### 3 - Usando o modelo Regressão XGBoost"
      ]
    },
    {
      "cell_type": "code",
      "execution_count": 106,
      "metadata": {
        "colab": {
          "base_uri": "https://localhost:8080/",
          "height": 252
        },
        "id": "wx1xGt5w_Tnu",
        "outputId": "4da5b816-bc51-4700-b42c-12d2fc79d8cd"
      },
      "outputs": [
        {
          "output_type": "execute_result",
          "data": {
            "text/plain": [
              "XGBRFRegressor(base_score=None, booster=None, callbacks=None,\n",
              "               colsample_bylevel=None, colsample_bytree=None, device=None,\n",
              "               early_stopping_rounds=None, enable_categorical=False,\n",
              "               eval_metric=None, feature_types=None, gamma=None,\n",
              "               grow_policy=None, importance_type=None,\n",
              "               interaction_constraints=None, max_bin=None,\n",
              "               max_cat_threshold=None, max_cat_to_onehot=None,\n",
              "               max_delta_step=None, max_depth=None, max_leaves=None,\n",
              "               min_child_weight=None, missing=nan, monotone_constraints=None,\n",
              "               multi_strategy=None, n_estimators=None, n_jobs=None,\n",
              "               num_parallel_tree=None, objective='reg:squarederror',\n",
              "               random_state=None, reg_alpha=None, ...)"
            ],
            "text/html": [
              "<style>#sk-container-id-7 {color: black;background-color: white;}#sk-container-id-7 pre{padding: 0;}#sk-container-id-7 div.sk-toggleable {background-color: white;}#sk-container-id-7 label.sk-toggleable__label {cursor: pointer;display: block;width: 100%;margin-bottom: 0;padding: 0.3em;box-sizing: border-box;text-align: center;}#sk-container-id-7 label.sk-toggleable__label-arrow:before {content: \"▸\";float: left;margin-right: 0.25em;color: #696969;}#sk-container-id-7 label.sk-toggleable__label-arrow:hover:before {color: black;}#sk-container-id-7 div.sk-estimator:hover label.sk-toggleable__label-arrow:before {color: black;}#sk-container-id-7 div.sk-toggleable__content {max-height: 0;max-width: 0;overflow: hidden;text-align: left;background-color: #f0f8ff;}#sk-container-id-7 div.sk-toggleable__content pre {margin: 0.2em;color: black;border-radius: 0.25em;background-color: #f0f8ff;}#sk-container-id-7 input.sk-toggleable__control:checked~div.sk-toggleable__content {max-height: 200px;max-width: 100%;overflow: auto;}#sk-container-id-7 input.sk-toggleable__control:checked~label.sk-toggleable__label-arrow:before {content: \"▾\";}#sk-container-id-7 div.sk-estimator input.sk-toggleable__control:checked~label.sk-toggleable__label {background-color: #d4ebff;}#sk-container-id-7 div.sk-label input.sk-toggleable__control:checked~label.sk-toggleable__label {background-color: #d4ebff;}#sk-container-id-7 input.sk-hidden--visually {border: 0;clip: rect(1px 1px 1px 1px);clip: rect(1px, 1px, 1px, 1px);height: 1px;margin: -1px;overflow: hidden;padding: 0;position: absolute;width: 1px;}#sk-container-id-7 div.sk-estimator {font-family: monospace;background-color: #f0f8ff;border: 1px dotted black;border-radius: 0.25em;box-sizing: border-box;margin-bottom: 0.5em;}#sk-container-id-7 div.sk-estimator:hover {background-color: #d4ebff;}#sk-container-id-7 div.sk-parallel-item::after {content: \"\";width: 100%;border-bottom: 1px solid gray;flex-grow: 1;}#sk-container-id-7 div.sk-label:hover label.sk-toggleable__label {background-color: #d4ebff;}#sk-container-id-7 div.sk-serial::before {content: \"\";position: absolute;border-left: 1px solid gray;box-sizing: border-box;top: 0;bottom: 0;left: 50%;z-index: 0;}#sk-container-id-7 div.sk-serial {display: flex;flex-direction: column;align-items: center;background-color: white;padding-right: 0.2em;padding-left: 0.2em;position: relative;}#sk-container-id-7 div.sk-item {position: relative;z-index: 1;}#sk-container-id-7 div.sk-parallel {display: flex;align-items: stretch;justify-content: center;background-color: white;position: relative;}#sk-container-id-7 div.sk-item::before, #sk-container-id-7 div.sk-parallel-item::before {content: \"\";position: absolute;border-left: 1px solid gray;box-sizing: border-box;top: 0;bottom: 0;left: 50%;z-index: -1;}#sk-container-id-7 div.sk-parallel-item {display: flex;flex-direction: column;z-index: 1;position: relative;background-color: white;}#sk-container-id-7 div.sk-parallel-item:first-child::after {align-self: flex-end;width: 50%;}#sk-container-id-7 div.sk-parallel-item:last-child::after {align-self: flex-start;width: 50%;}#sk-container-id-7 div.sk-parallel-item:only-child::after {width: 0;}#sk-container-id-7 div.sk-dashed-wrapped {border: 1px dashed gray;margin: 0 0.4em 0.5em 0.4em;box-sizing: border-box;padding-bottom: 0.4em;background-color: white;}#sk-container-id-7 div.sk-label label {font-family: monospace;font-weight: bold;display: inline-block;line-height: 1.2em;}#sk-container-id-7 div.sk-label-container {text-align: center;}#sk-container-id-7 div.sk-container {/* jupyter's `normalize.less` sets `[hidden] { display: none; }` but bootstrap.min.css set `[hidden] { display: none !important; }` so we also need the `!important` here to be able to override the default hidden behavior on the sphinx rendered scikit-learn.org. See: https://github.com/scikit-learn/scikit-learn/issues/21755 */display: inline-block !important;position: relative;}#sk-container-id-7 div.sk-text-repr-fallback {display: none;}</style><div id=\"sk-container-id-7\" class=\"sk-top-container\"><div class=\"sk-text-repr-fallback\"><pre>XGBRFRegressor(base_score=None, booster=None, callbacks=None,\n",
              "               colsample_bylevel=None, colsample_bytree=None, device=None,\n",
              "               early_stopping_rounds=None, enable_categorical=False,\n",
              "               eval_metric=None, feature_types=None, gamma=None,\n",
              "               grow_policy=None, importance_type=None,\n",
              "               interaction_constraints=None, max_bin=None,\n",
              "               max_cat_threshold=None, max_cat_to_onehot=None,\n",
              "               max_delta_step=None, max_depth=None, max_leaves=None,\n",
              "               min_child_weight=None, missing=nan, monotone_constraints=None,\n",
              "               multi_strategy=None, n_estimators=None, n_jobs=None,\n",
              "               num_parallel_tree=None, objective=&#x27;reg:squarederror&#x27;,\n",
              "               random_state=None, reg_alpha=None, ...)</pre><b>In a Jupyter environment, please rerun this cell to show the HTML representation or trust the notebook. <br />On GitHub, the HTML representation is unable to render, please try loading this page with nbviewer.org.</b></div><div class=\"sk-container\" hidden><div class=\"sk-item\"><div class=\"sk-estimator sk-toggleable\"><input class=\"sk-toggleable__control sk-hidden--visually\" id=\"sk-estimator-id-7\" type=\"checkbox\" checked><label for=\"sk-estimator-id-7\" class=\"sk-toggleable__label sk-toggleable__label-arrow\">XGBRFRegressor</label><div class=\"sk-toggleable__content\"><pre>XGBRFRegressor(base_score=None, booster=None, callbacks=None,\n",
              "               colsample_bylevel=None, colsample_bytree=None, device=None,\n",
              "               early_stopping_rounds=None, enable_categorical=False,\n",
              "               eval_metric=None, feature_types=None, gamma=None,\n",
              "               grow_policy=None, importance_type=None,\n",
              "               interaction_constraints=None, max_bin=None,\n",
              "               max_cat_threshold=None, max_cat_to_onehot=None,\n",
              "               max_delta_step=None, max_depth=None, max_leaves=None,\n",
              "               min_child_weight=None, missing=nan, monotone_constraints=None,\n",
              "               multi_strategy=None, n_estimators=None, n_jobs=None,\n",
              "               num_parallel_tree=None, objective=&#x27;reg:squarederror&#x27;,\n",
              "               random_state=None, reg_alpha=None, ...)</pre></div></div></div></div></div>"
            ]
          },
          "metadata": {},
          "execution_count": 106
        }
      ],
      "source": [
        "# carregando o modelo XGBoost\n",
        "from xgboost import XGBRFRegressor\n",
        "regressor_xgb = XGBRFRegressor()\n",
        "regressor_xgb.fit(X_treino, Y_treino)"
      ]
    },
    {
      "cell_type": "code",
      "execution_count": 107,
      "metadata": {
        "id": "F5F6ZrIL5ORh"
      },
      "outputs": [],
      "source": [
        "# fazendo predição do modelo XGBoost usando os dados de teste\n",
        "y_predicao_xgb = regressor_xgb.predict(X_teste)"
      ]
    },
    {
      "cell_type": "code",
      "execution_count": 108,
      "metadata": {
        "colab": {
          "base_uri": "https://localhost:8080/"
        },
        "id": "x3LQ0tKbAQ2o",
        "outputId": "3f0e881b-d35d-4fae-bb36-941392cbb917"
      },
      "outputs": [
        {
          "output_type": "stream",
          "name": "stdout",
          "text": [
            "r2_teste_xgb: 0.8662432902515654\n"
          ]
        }
      ],
      "source": [
        "# aplicando a métrica r2 do modelo xgBoost\n",
        "r2_xgb_teste = metrics.r2_score(Y_teste, y_predicao_xgb)\n",
        "print('r2_teste_xgb:', r2_xgb_teste)"
      ]
    },
    {
      "cell_type": "markdown",
      "metadata": {
        "id": "tnA3gblUAzmY"
      },
      "source": [
        "### Comparando os modelos treinados\n"
      ]
    },
    {
      "cell_type": "markdown",
      "metadata": {
        "id": "JdSylO3bBJ-i"
      },
      "source": [
        "### Comparação dos modelos usando a métrica R2\n"
      ]
    },
    {
      "cell_type": "code",
      "execution_count": 93,
      "metadata": {
        "colab": {
          "base_uri": "https://localhost:8080/"
        },
        "id": "nQ1S5jE8BUmP",
        "outputId": "78b6d650-d034-4347-dfd0-5e106b08cda7"
      },
      "outputs": [
        {
          "output_type": "stream",
          "name": "stdout",
          "text": [
            "Resultados das métricas R2 para os modelos do tipo:\n",
            "+-------+------ -----------+--------------------+\n",
            "|Métrica|Tipo Modelo       | Valor              |\n",
            "|-------+------ -----------+--------------------+\n",
            "|R2     | Regressão Linear | 0.7447273869684076 |\n",
            "|R2     | Random Forest    | 0.8404003211727582 |\n",
            "|R2     | XG Boost         | 0.8662432902515654 |\n",
            "|-------+------ -----------+--------------------+\n"
          ]
        }
      ],
      "source": [
        "# Exibindo os resultados da métrica R2 para os 3 modelos treinados conforme os tipos utilizados\n",
        "print('Resultados das métricas R2 para os modelos do tipo:')\n",
        "print('+-------+------ -----------+--------------------+')\n",
        "print('|Métrica|Tipo Modelo       | Valor              |')\n",
        "print('|-------+------ -----------+--------------------+')\n",
        "print('|R2     | Regressão Linear |', r2_teste, '|')\n",
        "print('|R2     | Random Forest    |', r2_rf_teste,'|')\n",
        "print('|R2     | XG Boost         |', r2_xgb_teste,'|')\n",
        "print('|-------+------ -----------+--------------------+')\n",
        "\n",
        "\n"
      ]
    },
    {
      "cell_type": "code",
      "execution_count": null,
      "metadata": {
        "id": "vEvFS5p3GDh9"
      },
      "outputs": [],
      "source": []
    },
    {
      "cell_type": "code",
      "execution_count": 109,
      "metadata": {
        "colab": {
          "base_uri": "https://localhost:8080/"
        },
        "id": "ZDPT0r9cE0J-",
        "outputId": "17987827-7661-466f-d0bd-35a9fc63e137"
      },
      "outputs": [
        {
          "output_type": "stream",
          "name": "stdout",
          "text": [
            "XG Boost\n",
            "O melhor modelo foi XG Boost com valor R2 0.8662432902515654\n"
          ]
        }
      ],
      "source": [
        "# Escolhendo o melhor modelo conforme métrica R2\n",
        "metricas_r2 = [r2_teste, r2_rf_teste, r2_xgb_teste]\n",
        "modelos_rs = ['Regressão Linear', 'Random Forest', 'XG Boost']\n",
        "\n",
        "r2_maior_valor = max(metricas_r2)\n",
        "indice_maior_valor_r2 = metricas_r2.index(r2_maior_valor)\n",
        "\n",
        "print( modelos_rs[indice_maior_valor_r2] )\n",
        "\n",
        "print('O melhor modelo foi', modelos_rs[indice_maior_valor_r2], 'com valor R2',r2_maior_valor)\n"
      ]
    },
    {
      "cell_type": "markdown",
      "metadata": {
        "id": "yzE4SagjJDM9"
      },
      "source": [
        "## Seção 5 - Conclusões( TODO)\n",
        "\n",
        "Conforme a métrica R2 aplicada para os modelos utilizad, o melhor modelo preditivo do valor do custo de seguro, é o modelo XG Boost, conforme tabela exbida abaixo:\n",
        "\n",
        "- Regressão Linear - R2:  0.7447273869684076\n",
        "- Random Forest - R2: 0.8370748848709408\n",
        "- XG Boost - R2: 0.8662432902515654\n",
        "\n",
        "- etc\n",
        "- etc\n",
        "- etc\n"
      ]
    },
    {
      "cell_type": "code",
      "execution_count": null,
      "metadata": {
        "id": "_kEJ17wpFo3B"
      },
      "outputs": [],
      "source": []
    },
    {
      "cell_type": "markdown",
      "metadata": {
        "id": "_RhHS3AkeOVA"
      },
      "source": [
        "### Seção 6 - Testando o modelo construido usando um formulário simples"
      ]
    },
    {
      "cell_type": "markdown",
      "metadata": {
        "id": "X0Bk326DrLBc"
      },
      "source": []
    },
    {
      "cell_type": "code",
      "source": [],
      "metadata": {
        "id": "trs0ZB9s6-XQ"
      },
      "execution_count": 137,
      "outputs": []
    },
    {
      "cell_type": "code",
      "source": [],
      "metadata": {
        "id": "Js0prNXTSqEA"
      },
      "execution_count": null,
      "outputs": []
    },
    {
      "cell_type": "markdown",
      "source": [],
      "metadata": {
        "id": "JasqSiBCTaiL"
      }
    },
    {
      "cell_type": "code",
      "execution_count": 141,
      "metadata": {
        "id": "H9bGdPbBd_Xd",
        "colab": {
          "base_uri": "https://localhost:8080/"
        },
        "outputId": "92220784-3bfb-4609-c5b4-4fdbab164143"
      },
      "outputs": [
        {
          "output_type": "stream",
          "name": "stdout",
          "text": [
            "Custo do segurado para os parâmtros abaixo:\n",
            "Idade: 44\n",
            "Sexo: Male\n",
            "IMC: 24.1\n",
            "Qtde Filhos: 1\n",
            "Fumante: Yes\n",
            "Região: Southeast\n",
            "Custo Seguro(USD): 10091.169\n"
          ]
        }
      ],
      "source": [
        "# Input de dados: idade, sexo, imc, 'filhos', 'fumante', 'regiao'\n",
        "# Formulário de entrada de dados\n",
        "\n",
        "gender     = 'Male' # @param [\"Female\", \"Male\" ]\n",
        "smoker = \"Yes\" #@param [\"Yes\", \"No\"]\n",
        "region = \"Southeast\" #@param ['Southeast','Southwest','Northwest','Northeast']\n",
        "age = 44 # @param {type:\"slider\", min:5, max:80, step:1}\n",
        "bmi = 24.1 # @param {type:\"slider\", min:10, max:50, step: 0.1}\n",
        "children = 1 # @param {type:\"slider\", min:0, max:5, step:1}\n",
        "\n",
        "sexo = gender\n",
        "fumante=smoker\n",
        "regiao = region\n",
        "\n",
        "if gender == 'Female':\n",
        "      gender = 0\n",
        "else:\n",
        "    gender = 1\n",
        "\n",
        "if smoker == 'Yes':\n",
        "   smoker = 1\n",
        "else:\n",
        "   smoker = 0\n",
        "\n",
        "if region == 'Southeast':\n",
        "   region = 0\n",
        "if region == 'Southwest':\n",
        "   region = 1\n",
        "if region == 'NorthEast':\n",
        "   region = 2\n",
        "else:\n",
        "  region = 3\n",
        "\n",
        "input_data = (age, gender, bmi, children, smoker, region)\n",
        "input_data_array = np.asarray(input_data)\n",
        "input_data_array = input_data_array.reshape(1,-1)\n",
        "\n",
        "\n",
        "# alterando input_data para uma matriz numpy\n",
        "input_data_as_numpy_array = np.asarray(input_data)\n",
        "\n",
        "# reshape o array\n",
        "input_data_reshaped = input_data_as_numpy_array.reshape(1,-1)\n",
        "\n",
        "# fazendo predição do custo do seguro usando o modelo vencedor XGBoost\n",
        "prediction = regressor_xgb.predict(input_data_reshaped)\n",
        "\n",
        "custo_seguro = str(prediction[0])\n",
        "print(\"Custo do segurado para os parâmtros abaixo:\")\n",
        "print(\"Idade:\",age)\n",
        "print(\"Sexo:\",sexo)\n",
        "print(\"IMC:\",bmi)\n",
        "print(\"Qtde Filhos:\", children)\n",
        "print(\"Fumante:\",fumante)\n",
        "print(\"Região:\",regiao)\n",
        "\n",
        "print('Custo Seguro(USD):', custo_seguro)"
      ]
    },
    {
      "cell_type": "markdown",
      "source": [],
      "metadata": {
        "id": "KFsgNmO6S0_k"
      }
    },
    {
      "cell_type": "markdown",
      "source": [],
      "metadata": {
        "id": "R98Qoy0oTccZ"
      }
    },
    {
      "cell_type": "markdown",
      "metadata": {
        "id": "E89OzwjjOnbv"
      },
      "source": [
        "# Seção 7 - Referências e Créditos\n",
        "\n",
        "Seção 10 - Referências e Créditos\n",
        "Fontes:\n",
        "\n",
        "[Conjunto de dados insurance.csv obtido do Kaggle](https://www.kaggle.com/mirichoi0218/insurance?select=insurance.csv)\n",
        "\n",
        "[O que é IMC Definição do Índice Massa Corpórea e para que serve](https://www.prefeitura.sp.gov.br/cidade/secretarias/saude/noticias/?p=332991)\n",
        "\n",
        "O Índice de Massa Corporal (IMC) é uma das principais ferramentas, adotada inclusive pela Organização Mundial de Saúde (OMS), para calcular o chamado “peso ideal”. Obtido a partir do peso e da altura do indivíduo, o IMC também aponta níveis de magreza e obesidade, que são usados para nortear o trabalho de profissionais de saúde e de educadores físicos.\n",
        "\n",
        "Para obter o IMC, basta dividir o seu peso (em quilos) pela altura (em metros) elevada ao quadrado (altura x altura). De acordo com o indicador, o peso considerado saudável é aquele situado entre 18,5 e 24,9.\n",
        "\n",
        "Os outros marcadores do IMC são:\n",
        "\n",
        "- magreza leve (entre 17 e 18,4);\n",
        "- magreza moderada (entre 16 e 16,9) ;\n",
        "- magreza grave (menor que 16);\n",
        "- sobrepeso (índice de 25 a 29,9);\n",
        "- obesidade grau 1 (30 a 34,9);\n",
        "- obesidade severa (35 a 39,9)\n",
        "- obesidade mórbida (acima de 40).\n",
        "\n",
        "## Algumas métricas de modelos de Machine Learning:\n",
        "\n",
        "- MAE - Mean Absolute Error(Erro Médio Absoluto)\n",
        "\n",
        "  O MAE mede a média dos erros absolutos entre as previsões do modelo e os valores reais.\n",
        "\n",
        "  É útil quando você deseja entender o tamanho médio dos erros em unidades originais (por exemplo, em dólares, minutos, etc.)\n",
        "  É robusto contra outliers\n",
        "\n",
        "  No entanto, não penaliza erros grandes de forma diferente dos erros pequenos.\n",
        "\n",
        "- MAPE-Mean Absolute Percentage Error(Erro Percentual Médio Absoluto)\n",
        "\n",
        "  É semelhante ao MAE, mas expresso como uma porcentagem.\n",
        "  É útil para avaliar o erro relativo em relação aos valores reais.\n",
        "  No entanto, pode ser sensível a valores próximos a zero.\n",
        "\n",
        "\n",
        "- RMSE-Root Mean Squared Error(Raiz do Erro Quadrático Médio)\n",
        "\n",
        "  RMSE é a raiz quadrada da média dos erros quadráticos\n",
        "  entre as previsões e os valores reais\n",
        "\n",
        "  Ele penaliza erros maiores mais fortemente do que o MAE\n",
        "  É sensível a outliers.\n",
        "  Coeficiente de Determinação (R²-R-squared)\n",
        "\n",
        "  O R² mede a proporção da variabilidade nos dados que é explicada pelo modelo.\n",
        "  Um valor próximo a 1 indica que o modelo se ajusta bem\n",
        "  aos dados.\n",
        "   No entanto, ele não considera a escala dos erros e pode ser enganoso com modelos complexos.\n",
        "   Em relação à escolha entre essas métricas:\n",
        "\n",
        "**Escolha a métrica conforme o contexto do problema:**\n",
        "\n",
        "   - Use o MAE quando você precisa de uma medida simples e interpretação direta dos erros.\n",
        "\n",
        "   - O MAPE é útil quando você deseja avaliar o erro percentual. O RMSE é comumente usado quando queremos penalizar erros maiores.\n",
        "\n",
        "   - O R² é útil para entender a variância explicada pelo modelo, mas não deve ser usado isoladamente.\n",
        "\n"
      ]
    },
    {
      "cell_type": "markdown",
      "metadata": {
        "id": "-uQ6csyyRuPa"
      },
      "source": []
    },
    {
      "cell_type": "code",
      "execution_count": null,
      "metadata": {
        "id": "E8O1YguQRurw"
      },
      "outputs": [],
      "source": []
    },
    {
      "cell_type": "markdown",
      "metadata": {
        "id": "TZUADnADeYXE"
      },
      "source": []
    }
  ],
  "metadata": {
    "colab": {
      "provenance": [],
      "include_colab_link": true
    },
    "kernelspec": {
      "display_name": "Python 3",
      "name": "python3"
    },
    "language_info": {
      "name": "python"
    }
  },
  "nbformat": 4,
  "nbformat_minor": 0
}